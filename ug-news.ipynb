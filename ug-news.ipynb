{
 "cells": [
  {
   "cell_type": "markdown",
   "metadata": {},
   "source": [
    "### Fetching Ugandan news data"
   ]
  },
  {
   "cell_type": "markdown",
   "metadata": {},
   "source": [
    "**Import the `BeautifulSoup` library for web scraping and `requests` for making web requests**"
   ]
  },
  {
   "cell_type": "code",
   "execution_count": 72,
   "metadata": {},
   "outputs": [],
   "source": [
    "import re\n",
    "import requests\n",
    "from bs4 import BeautifulSoup\n",
    "import datetime"
   ]
  },
  {
   "cell_type": "markdown",
   "metadata": {},
   "source": [
    "**Setting up `pymongo`, a package used to connect with `MongoDB`, where the news data will be stored**"
   ]
  },
  {
   "cell_type": "code",
   "execution_count": 73,
   "metadata": {},
   "outputs": [
    {
     "data": {
      "text/plain": [
       "'slug_1'"
      ]
     },
     "execution_count": 73,
     "metadata": {},
     "output_type": "execute_result"
    }
   ],
   "source": [
    "import pymongo\n",
    "client = pymongo.MongoClient()\n",
    "news_db = client[\"ug_news\"]\n",
    "news_col = news_db[\"news\"]\n",
    "news_db.news.create_index([('slug', pymongo.ASCENDING)], unique=True)"
   ]
  },
  {
   "cell_type": "code",
   "execution_count": 74,
   "metadata": {},
   "outputs": [],
   "source": [
    "def clean_article_text(paragraphs):\n",
    "    del paragraphs[0:2]\n",
    "    del paragraphs[-7:]\n",
    "    cleaned_text = []\n",
    "    for p in paragraphs:\n",
    "        p_text = p.get_text().strip()\n",
    "        cleaned_text.append(p_text)\n",
    "    return \" \".join(cleaned_text)"
   ]
  },
  {
   "cell_type": "markdown",
   "metadata": {},
   "source": [
    "**Define and call a method for fetching data from the `New Vision` online newspaper**"
   ]
  },
  {
   "cell_type": "code",
   "execution_count": 75,
   "metadata": {},
   "outputs": [
    {
     "data": {
      "text/plain": [
       "[{'slug': '10-perish-in-fresh-Kasese-floods',\n",
       "  'text': 'The victims drowned when the river, which marks the common border along Kitholhu sub-county, burst its banks following overnight torrential rains in Mt Rwenzori. DISASTER Five people from one family are confirmed dead in a new wave of floods\\xa0that hit Bukonzo West Constituency, long the Uganda-DR Congo border\\xa0today morning. Meanwhile, on the Congo side, five other civilians also died\\xa0when river Lhubiriha overran their community along the common border. The victims drowned when the river, which marks the common border\\xa0along Kitholhu sub-county, burst its banks following overnight\\xa0torrential rains in Mt Rwenzori. One UPDF is reportedly missing while\\xa0three others are admitted at Bwera referral hospital after they narrowly\\xa0survived when the river invaded the area.\\xa0Find the details of this as well as other flooding incidents in the New Vision tomorrow. Click on Epaper for your copy Rwenzururu Queen ends visit to Kasese One killed in Kasese floods COVID-19 relief items greeted with mixed reactions in Kasese...'},\n",
       " {'slug': 'Ramadhan:-Idd-to-be-announced-on-Friday',\n",
       "  'text': '“I appeal to whoever sights the moon on Friday evening to contact me immediately for verification,” Kakungulu said. Sheikh-Yahaya-Ibrahim-Kakungulu.jpg “I appeal to whoever sights the moon on Friday evening to contact me immediately for verification,” Kakungulu said. RELIGION | IDD | RAMADHAN |UGANDAMuslims will on Friday evening know when Idd el-Fitr which marks the end of their fasting, be celebrated.According to the Uganda Muslim Supreme Council (UMSC), Director of Sharia, Sheikh Yahaya Ibrahim Kakungulu, Friday will be the 29th day since Muslims commenced fasting on April 24.Kakungulu has advised Muslims to look out for the moon on Friday evening.\\xa0“I implore Muslims and other trusted members of the public, to look out for the moon on Friday evening since it is the 29th day of the holy month of Ramadhan,” Kakungulu said. He noted that if the moon is sighted on Friday evening, Idd will be celebrated on Saturday but if it is not sighted, it will automatically be marked on Sunday.However, due to COVID-19 pandemic, there will be no communal prayers in the mosque.The month of Ramadhan in which Muslims fast from dawn to sunset on a daily basis, lasts between 29 to 30 days.Fasting is the fourth pillar of the Islamic religion and it is considered a special month of the Islamic religion in which the Quran was revealed to Prophet Muhammad. Fasting is observed annually.Kakungulu who is the only sheikh in the country authorised to announce Idd day appealed to those who would sight the moon to contact him immediately on the following numbers 0702/0772-525-171 or 0772588316.“I appeal to whoever sights the moon on Friday evening to contact me immediately for verification,” Kakungulu said.He warned that only people with sober minds with no disputed integrity are supposed to contact him about moon sighting.\\xa0“Information from subsequent liars is not accepted,” Kakungulu said.\\xa0Pay zakat before IddMeanwhile, the Mufti of Uganda Sheikh Ramadhan Mubajje, has urged Muslims to pay Zakat al-Fitr before Idd prayers despite the COVID-19 lockdown.\\xa0 He explained that payment of Zakat al-Fitr perfects ones fasting.“Most of our fasting comes with shortfalls. However, Prophet Muhammad encouraged us to pay Zakat al-Fitr,\\xa0 saying that one’s fasting will be hanging between earth and heavens and it will not be raised up to the divine presence without paying the Zakat al-Fitr,” Mubajje said.Zakat al-Fitr is a charity taken to the poor, a few days before the end of fasting in the Islamic holy month of Ramadan.\\xa0 \\xa0Fitr is the same as Iftar meaning breaking the fast. Mubajje noted that every Muslim is required to pay Zakat al-Fitr at the conclusion of the month of Ramadhan as a token of thankfulness to God for having enabled them to observe the obligatory fast.\\xa0Sheikh Imran Ssali, an Imam at Gadaffi national mosque, said the amount of Zakat al –Fitr is the same for everyone regardless of their varying economic status.“Unlike Zakatul- Mali which is only supposed to be paid by wealthy Muslims, every Muslim including children are supposed to pay it,” Ssali said.Zakat al-Fitr is payable in the form of cash and foodstuffs like rice, bananas, and maize among others.  Kitatta loses bid to block army court trial Survivors of 2010 twin bombings give hope to Katwe youth... Mubajje asks kidnappers to repent'},\n",
       " {'slug': 'Slaying-even-with-a-face-mask-on',\n",
       "  'text': 'Fashionistas, whichever mask you opt for, at least make sure it caters for your health, the event you are headed to, and your outfit all in one. Youths slaying in face masks Fashionistas, whichever mask you opt for, at least make sure it caters for your health, the event you are headed to, and your outfit all in one. By Sauda Nabatanzi The whole Covid-19 situation seems to be changing many aspects of life around the world. The health crisis is turning tables that none of us thought were even moveable. Changes in social aspects have been one of the most noticeable ones, from anti-socialism to compulsory wearing of face masks among others as means to curb the spread of the disease.  To the lovers of good looks and the fashion industry at large, such prevention measures are hitting hard. It is quite a huge twist of events. Let us keep in mind that such changes have come at a time in which the fashion industry is thriving. Fashion trends such as extravagant as well as luxurious hair, make-up and dress-codes are a huge part of many people’s lives right now. It is at a point where you cannot describe someone without hitting on one’s fashion preferences. So, with the new social ways of life, without a doubt there have to be new means to go about them without forgetting the fashionista you are.  Face masks and make-up There is more to a face than just the nose and lip area and even though they play such a huge role to it, it is high time we agree that desperate times call for desperate measures. With the nose and lips “taken away” from you, focusing more on other areas like the eyes, and hair is the best way to cope-up. Step-up your eye and hair game with bold but not too much eye make-up for the eyes. For the hair, wear it in a way that stylishly exposes your face and resist from styles that can crowd your face now that a portion of it is under a mask already. Hairstyles like buns and other updos that keep hair out of one’s face are really suitable in this case unlike fringes and the likes that cover a part of the face. Leila Nakaddu, one makeup artist in Kabalagala, says that although focusing on the rest of the face seems like the quickest move many are bound to take, we should not totally do away with the lips as we believe such times will pass. “It is time to give lipsticks a break and take on lip balms and moisturizers which many overlook but are handy for fashionable as well as healthy lips.“  Face masks and outfits If you can recall before the health crisis, face masks were already on the streets of fashion even though they differ with the now recommended ones where the other are more of fashion and the latter for health. Fashionistas, whichever mask you opt for, at least make sure it caters for your health, the event you are headed to, and your outfit all in one. Fashion lovers and everyone else are now comfortably uploading content of themselves on social media behind masks and if we must say, they got it!  Passion fruit supply up, orange prices down Market latest: Banana prices still up Fish prices still high, sardine supply up'},\n",
       " {'slug': 'Uganda-loses-billions-in-cancelled-cultural-events',\n",
       "  'text': 'The cancellation of over 300 cultural events caused the enormous economic, social and emotional cost to both the government and over 700 artists along with their fans. Minister of State for Gender and Culture Affairs, Peace Mutuuzo, addressing journalists during a press conference at Uganda Media Centre, Kampala on May 21, 2020. Photo by Juliet Kasirye The cancellation of over 300 cultural events caused the enormous economic, social and emotional cost to both the government and over 700 artists along with their fans. COVID-19 | CULTURE\\xa0The Government and event organizers have lost over sh150b cancelled cultural events during the COVID-19 lockdown.\\xa0The ministry of gender, labour and social development Thursday reported that the cancellation of over 300 cultural events caused the enormous economic, social and emotional cost to both the government and over 700 artists along with their fans.Addressing journalists at Uganda Media Centre in Kampala, in an event to mark the World Culture Day 2020, the minister of state for gender and culture, Peace Mutuuzo, said the entire creative value chain including creation, production, distribution and marketing has been disrupted. “It has further considerably weakened the professional, social and economic status of artists, performers, creatives and cultural professionals,” Mutuuzo said.The Day was marked under the theme “Art, Culture and Crises: Opportunities and Challenges in Uganda”. Youth gain skills under presidential initiative No more worry for blood: assures UBTS Government fails to recruit public relations officers'},\n",
       " {'slug': 'COVID-19:-Uganda,-WhatsApp-partner-to-curb-misinformation',\n",
       "  'text': \"The service is aimed at disseminating information about the virus and curbing the misinformation, myths, and fake news. Dr Jane Ruth Aceng. Photo/File The service is aimed at disseminating information about the virus and curbing the misinformation, myths, and fake news. COVID-19 | COMMUNICATIONTech giant WhatsApp Inc has partnered with Uganda’s ministries of health and Information, Technology and Communications (ICT) to introduce a WhatsApp chatbot.   The service is aimed at disseminating information about the virus and curbing the misinformation, myths, and fake news.“The free-to-use is available to all Ugandans to access information on the current tally of cases, travel advisory, health warnings, and a lot more. It has been made an opt-in-service so that citizens can ably send urgent messages, tips, and information from their respective areas to the Ministry of Health,” reads a joint statement from ministries of health and ICT.According to the statement, the service will require users to type “Hi' and send it to +256 32 3200660 so as to get started. The project has been executed with support from the Clinton Health Access Initiative and the Covid-19 WhatsApp Business API developed by Praekelt.org, which prides itself on designing products, services, and experiences that address real needs, according to their website.Facebook’s head of public policy for East and Horn of Africa Mercy Ndegwa says the company is also partnering with governments, technology firms and civil society organisations to respond to the immense challenges presented at this time.“We encourage users to check the facts via official public health agencies before sharing messages that have been forwarded to them and to engage directly with trusted and official sources for important information,” she says. Facebook Inc is the parent company for WhatsApp.The Ministry of Health has been disseminating Covid-19 related information on both the website and their social media handles, so this will complement the process of disseminating information regarding the virus.\"}]"
      ]
     },
     "execution_count": 75,
     "metadata": {},
     "output_type": "execute_result"
    }
   ],
   "source": [
    "def fetch_new_vision():\n",
    "    \"\"\"Fetch data from the New Vision online newspaper\"\"\"\n",
    "    \n",
    "    # Fetch data from the New Vision online coverpage\n",
    "    url = \"https://www.newvision.co.ug\"\n",
    "    news_href = re.compile(r\"https://www.newvision.co.ug/new_vision/news/\")\n",
    "\n",
    "    news_request = requests.get(url)\n",
    "    coverpage = news_request.content\n",
    "    \n",
    "    # Pick out the anchor tags to get the links to the actual news articles\n",
    "    soup1 = BeautifulSoup(coverpage, 'html5lib')\n",
    "    article_links = soup1.find_all(href=news_href)\n",
    "    \n",
    "    \n",
    "    # Follow each link and fetch the article content\n",
    "    all_articles = []\n",
    "\n",
    "    for link in article_links:\n",
    "        article = requests.get(link['href'])\n",
    "        article_content = article.content\n",
    "        soup2 = BeautifulSoup(article_content, 'html5lib')\n",
    "        title = soup2.find('h1').get_text()\n",
    "        slug = \"-\".join(title.split())\n",
    "        paragraphs = soup2.find_all('p', recursive=True)\n",
    "        cleaned_article = clean_article_text(paragraphs)\n",
    "        all_articles.append({'slug': slug, 'text': cleaned_article})\n",
    "            \n",
    "    return all_articles\n",
    "\n",
    "nv_news = fetch_new_vision()\n",
    "nv_news"
   ]
  },
  {
   "cell_type": "markdown",
   "metadata": {},
   "source": [
    "**Define and call a method for fetching data from the `Daily Monitor` online newspaper**"
   ]
  },
  {
   "cell_type": "code",
   "execution_count": 67,
   "metadata": {},
   "outputs": [],
   "source": [
    "def fetch_daily_monitor():\n",
    "    pass\n",
    "\n",
    "fetch_daily_monitor()"
   ]
  },
  {
   "cell_type": "markdown",
   "metadata": {},
   "source": [
    "**Store article text in `mongodb` database**"
   ]
  },
  {
   "cell_type": "code",
   "execution_count": 69,
   "metadata": {},
   "outputs": [
    {
     "ename": "BulkWriteError",
     "evalue": "batch op errors occurred",
     "output_type": "error",
     "traceback": [
      "\u001b[0;31m------------------------------------------------------------------\u001b[0m",
      "\u001b[0;31mBulkWriteError\u001b[0m                   Traceback (most recent call last)",
      "\u001b[0;32m<ipython-input-69-528b32fc894b>\u001b[0m in \u001b[0;36m<module>\u001b[0;34m\u001b[0m\n\u001b[0;32m----> 1\u001b[0;31m \u001b[0mnews_collection\u001b[0m\u001b[0;34m.\u001b[0m\u001b[0minsert_many\u001b[0m\u001b[0;34m(\u001b[0m\u001b[0mnv_news\u001b[0m\u001b[0;34m)\u001b[0m\u001b[0;34m\u001b[0m\u001b[0;34m\u001b[0m\u001b[0m\n\u001b[0m",
      "\u001b[0;32m~/.local/lib/python3.6/site-packages/pymongo/collection.py\u001b[0m in \u001b[0;36minsert_many\u001b[0;34m(self, documents, ordered, bypass_document_validation, session)\u001b[0m\n\u001b[1;32m    756\u001b[0m         \u001b[0mblk\u001b[0m \u001b[0;34m=\u001b[0m \u001b[0m_Bulk\u001b[0m\u001b[0;34m(\u001b[0m\u001b[0mself\u001b[0m\u001b[0;34m,\u001b[0m \u001b[0mordered\u001b[0m\u001b[0;34m,\u001b[0m \u001b[0mbypass_document_validation\u001b[0m\u001b[0;34m)\u001b[0m\u001b[0;34m\u001b[0m\u001b[0;34m\u001b[0m\u001b[0m\n\u001b[1;32m    757\u001b[0m         \u001b[0mblk\u001b[0m\u001b[0;34m.\u001b[0m\u001b[0mops\u001b[0m \u001b[0;34m=\u001b[0m \u001b[0;34m[\u001b[0m\u001b[0mdoc\u001b[0m \u001b[0;32mfor\u001b[0m \u001b[0mdoc\u001b[0m \u001b[0;32min\u001b[0m \u001b[0mgen\u001b[0m\u001b[0;34m(\u001b[0m\u001b[0;34m)\u001b[0m\u001b[0;34m]\u001b[0m\u001b[0;34m\u001b[0m\u001b[0;34m\u001b[0m\u001b[0m\n\u001b[0;32m--> 758\u001b[0;31m         \u001b[0mblk\u001b[0m\u001b[0;34m.\u001b[0m\u001b[0mexecute\u001b[0m\u001b[0;34m(\u001b[0m\u001b[0mwrite_concern\u001b[0m\u001b[0;34m,\u001b[0m \u001b[0msession\u001b[0m\u001b[0;34m=\u001b[0m\u001b[0msession\u001b[0m\u001b[0;34m)\u001b[0m\u001b[0;34m\u001b[0m\u001b[0;34m\u001b[0m\u001b[0m\n\u001b[0m\u001b[1;32m    759\u001b[0m         \u001b[0;32mreturn\u001b[0m \u001b[0mInsertManyResult\u001b[0m\u001b[0;34m(\u001b[0m\u001b[0minserted_ids\u001b[0m\u001b[0;34m,\u001b[0m \u001b[0mwrite_concern\u001b[0m\u001b[0;34m.\u001b[0m\u001b[0macknowledged\u001b[0m\u001b[0;34m)\u001b[0m\u001b[0;34m\u001b[0m\u001b[0;34m\u001b[0m\u001b[0m\n\u001b[1;32m    760\u001b[0m \u001b[0;34m\u001b[0m\u001b[0m\n",
      "\u001b[0;32m~/.local/lib/python3.6/site-packages/pymongo/bulk.py\u001b[0m in \u001b[0;36mexecute\u001b[0;34m(self, write_concern, session)\u001b[0m\n\u001b[1;32m    509\u001b[0m                 \u001b[0mself\u001b[0m\u001b[0;34m.\u001b[0m\u001b[0mexecute_no_results\u001b[0m\u001b[0;34m(\u001b[0m\u001b[0msock_info\u001b[0m\u001b[0;34m,\u001b[0m \u001b[0mgenerator\u001b[0m\u001b[0;34m)\u001b[0m\u001b[0;34m\u001b[0m\u001b[0;34m\u001b[0m\u001b[0m\n\u001b[1;32m    510\u001b[0m         \u001b[0;32melse\u001b[0m\u001b[0;34m:\u001b[0m\u001b[0;34m\u001b[0m\u001b[0;34m\u001b[0m\u001b[0m\n\u001b[0;32m--> 511\u001b[0;31m             \u001b[0;32mreturn\u001b[0m \u001b[0mself\u001b[0m\u001b[0;34m.\u001b[0m\u001b[0mexecute_command\u001b[0m\u001b[0;34m(\u001b[0m\u001b[0mgenerator\u001b[0m\u001b[0;34m,\u001b[0m \u001b[0mwrite_concern\u001b[0m\u001b[0;34m,\u001b[0m \u001b[0msession\u001b[0m\u001b[0;34m)\u001b[0m\u001b[0;34m\u001b[0m\u001b[0;34m\u001b[0m\u001b[0m\n\u001b[0m\u001b[1;32m    512\u001b[0m \u001b[0;34m\u001b[0m\u001b[0m\n\u001b[1;32m    513\u001b[0m \u001b[0;34m\u001b[0m\u001b[0m\n",
      "\u001b[0;32m~/.local/lib/python3.6/site-packages/pymongo/bulk.py\u001b[0m in \u001b[0;36mexecute_command\u001b[0;34m(self, generator, write_concern, session)\u001b[0m\n\u001b[1;32m    347\u001b[0m \u001b[0;34m\u001b[0m\u001b[0m\n\u001b[1;32m    348\u001b[0m         \u001b[0;32mif\u001b[0m \u001b[0mfull_result\u001b[0m\u001b[0;34m[\u001b[0m\u001b[0;34m\"writeErrors\"\u001b[0m\u001b[0;34m]\u001b[0m \u001b[0;32mor\u001b[0m \u001b[0mfull_result\u001b[0m\u001b[0;34m[\u001b[0m\u001b[0;34m\"writeConcernErrors\"\u001b[0m\u001b[0;34m]\u001b[0m\u001b[0;34m:\u001b[0m\u001b[0;34m\u001b[0m\u001b[0;34m\u001b[0m\u001b[0m\n\u001b[0;32m--> 349\u001b[0;31m             \u001b[0m_raise_bulk_write_error\u001b[0m\u001b[0;34m(\u001b[0m\u001b[0mfull_result\u001b[0m\u001b[0;34m)\u001b[0m\u001b[0;34m\u001b[0m\u001b[0;34m\u001b[0m\u001b[0m\n\u001b[0m\u001b[1;32m    350\u001b[0m         \u001b[0;32mreturn\u001b[0m \u001b[0mfull_result\u001b[0m\u001b[0;34m\u001b[0m\u001b[0;34m\u001b[0m\u001b[0m\n\u001b[1;32m    351\u001b[0m \u001b[0;34m\u001b[0m\u001b[0m\n",
      "\u001b[0;32m~/.local/lib/python3.6/site-packages/pymongo/bulk.py\u001b[0m in \u001b[0;36m_raise_bulk_write_error\u001b[0;34m(full_result)\u001b[0m\n\u001b[1;32m    138\u001b[0m         full_result[\"writeErrors\"].sort(\n\u001b[1;32m    139\u001b[0m             key=lambda error: error[\"index\"])\n\u001b[0;32m--> 140\u001b[0;31m     \u001b[0;32mraise\u001b[0m \u001b[0mBulkWriteError\u001b[0m\u001b[0;34m(\u001b[0m\u001b[0mfull_result\u001b[0m\u001b[0;34m)\u001b[0m\u001b[0;34m\u001b[0m\u001b[0;34m\u001b[0m\u001b[0m\n\u001b[0m\u001b[1;32m    141\u001b[0m \u001b[0;34m\u001b[0m\u001b[0m\n\u001b[1;32m    142\u001b[0m \u001b[0;34m\u001b[0m\u001b[0m\n",
      "\u001b[0;31mBulkWriteError\u001b[0m: batch op errors occurred"
     ]
    }
   ],
   "source": [
    "news_col.insert_many(nv_news)"
   ]
  },
  {
   "cell_type": "code",
   "execution_count": 37,
   "metadata": {},
   "outputs": [],
   "source": [
    "# col.insert_many(daily_monitor_news)"
   ]
  },
  {
   "cell_type": "code",
   "execution_count": null,
   "metadata": {},
   "outputs": [],
   "source": []
  }
 ],
 "metadata": {
  "kernelspec": {
   "display_name": "Python 3",
   "language": "python",
   "name": "python3"
  },
  "language_info": {
   "codemirror_mode": {
    "name": "ipython",
    "version": 3
   },
   "file_extension": ".py",
   "mimetype": "text/x-python",
   "name": "python",
   "nbconvert_exporter": "python",
   "pygments_lexer": "ipython3",
   "version": "3.6.10"
  }
 },
 "nbformat": 4,
 "nbformat_minor": 2
}
