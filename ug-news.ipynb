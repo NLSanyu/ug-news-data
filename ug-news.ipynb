{
 "cells": [
  {
   "cell_type": "markdown",
   "metadata": {},
   "source": [
    "### Fetching Ugandan news data"
   ]
  },
  {
   "cell_type": "markdown",
   "metadata": {},
   "source": [
    "**Import the `BeautifulSoup` library for web scraping and `requests` for making web requests**"
   ]
  },
  {
   "cell_type": "code",
   "execution_count": 20,
   "metadata": {},
   "outputs": [],
   "source": [
    "import requests\n",
    "from bs4 import BeautifulSoup\n",
    "import datetime"
   ]
  },
  {
   "cell_type": "markdown",
   "metadata": {},
   "source": [
    "**Setting up `pymongo`, a package used to connect with `MongoDB`, where the news data will be stored**"
   ]
  },
  {
   "cell_type": "code",
   "execution_count": 21,
   "metadata": {},
   "outputs": [],
   "source": [
    "import pymongo\n",
    "db_client = pymongo.MongoClient()\n",
    "news_db = db_client[\"ug_news\"]\n",
    "col = news_db[\"news\"]"
   ]
  },
  {
   "cell_type": "markdown",
   "metadata": {},
   "source": [
    "**Define a method for fetching data from the `New Vision` online newspaper**"
   ]
  },
  {
   "cell_type": "code",
   "execution_count": 23,
   "metadata": {},
   "outputs": [],
   "source": [
    "def fetch_new_vision():\n",
    "    \"\"\"Fetch data from the New Vision online nwespaper\"\"\"\n",
    "    \n",
    "    # Fetch data from the New Vision online coverpage\n",
    "    url = \"https://www.newvision.co.ug\"\n",
    "    news_href = \"https://www.newvision.co.ug/new_vision/news/\"\n",
    "\n",
    "    news_request = requests.get(url)\n",
    "    coverpage = news_request.content\n",
    "    \n",
    "    # Pick out the anchor tags to get the links to the actual news articles\n",
    "    soup1 = BeautifulSoup(coverpage, 'html5lib')\n",
    "    article_links = soup1.find_all('a')\n",
    "    \n",
    "    # Follow each link and fetch the article content\n",
    "    text = []\n",
    "\n",
    "    for link in article_links:\n",
    "        if news_href in link['href']:\n",
    "            article = requests.get(link['href'])\n",
    "            article_content = article.content\n",
    "            soup2 = BeautifulSoup(article_content, 'html5lib')\n",
    "            body = soup2.find('div', class_='article-content')\n",
    "            soup3 = BeautifulSoup(article_content, 'html5lib')\n",
    "            paragraphs = soup3.find_all('p')\n",
    "            for p in paragraphs:\n",
    "                text.append(p.get_text())\n",
    "\n",
    "    final_text = \" \".join(text)\n",
    "    timestamp = datetime.datetime.now()\n",
    "    news_entry = {timestamp.strftime(\"%m/%d/%Y, %H:%M:%S\"): final_text}\n",
    "    return(news_entry)"
   ]
  },
  {
   "cell_type": "markdown",
   "metadata": {},
   "source": [
    "**Define a method for fetching data from the `Daily Monitor` online newspaper**"
   ]
  },
  {
   "cell_type": "code",
   "execution_count": 25,
   "metadata": {},
   "outputs": [],
   "source": [
    "def fetch_daily_monitor():\n",
    "    pass"
   ]
  },
  {
   "cell_type": "markdown",
   "metadata": {},
   "source": [
    "**Call methods for both newspapers to return their news data**"
   ]
  },
  {
   "cell_type": "code",
   "execution_count": 32,
   "metadata": {},
   "outputs": [],
   "source": [
    "new_vision_news = fetch_new_vision()\n",
    "daily_monitor_news = fetch_daily_monitor()"
   ]
  },
  {
   "cell_type": "code",
   "execution_count": 33,
   "metadata": {},
   "outputs": [
    {
     "data": {
      "text/plain": [
       "{'05/20/2020, 11:52:02': \"\\n\\t\\t\\t\\t\\t\\tBy Vision Reporter\\n\\t\\t\\t\\t\\t \\n\\t\\t\\t\\t\\t\\tAdded 20th May 2020 10:57 AM\\n\\t\\t\\t\\t\\t \\n\\t\\t\\t\\tHe, however, noted that transport in the 40 border districts will not be opened, as the Government monitors the situation, given the fact that the major risk points are now the border points.\\n\\t\\t\\t \\n\\t\\t\\t\\t\\t\\t President Yoweri Museveni. Photo/File\\n\\t\\t\\t\\t\\t He, however, noted that transport in the 40 border districts will not be opened, as the Government monitors the situation, given the fact that the major risk points are now the border points. COVID-19\\xa0President Yoweri Museveni yesterday clarified on a raft of measures he released on Monday, saying next week on May 26, shops, hotels, and private cars will be allowed to operate as the Government moves to ease the lockdown. However, Museveni, who was responding to emerging points of clarifications, fronted by citizens, following his Monday address, said public transport and schools to accommodate candidates and finalists in tertiary institutions, will be opened on June 4. He, however, noted that transport in the 40 border districts will not be opened, as the Government monitors the situation, given the fact that the major risk points are now the border points.The New Vision today has compiled a list of the 40 districts. Click on Epaper for your copy iBM acquires ready concrete mx for the Ugandan market Clean water access: Govt hails private firms Commercial agriculture will create wealth, jobs – Museveni... \\n\\t\\t\\t\\t20 May 2020\\n\\t\\t\\t\\t \\n\\t\\t\\t\\t20 May 2020\\n\\t\\t\\t\\t \\n\\t\\t\\t\\t20 May 2020\\n\\t\\t\\t\\t \\n\\t\\t\\t\\t20 May 2020\\n\\t\\t\\t\\t \\n\\t\\t\\t\\t20 May 2020\\n\\t\\t\\t\\t © 2019 - New Vision. All Rights Reserved. \\n\\t\\t\\t\\t\\t\\tKindly provide your details to receive the Newvision Newsletter\\n\\t\\t\\t\\t\\t \\n\\t\\t\\t\\t\\t\\tBy Vision Reporter\\n\\t\\t\\t\\t\\t \\n\\t\\t\\t\\t\\t\\tAdded 20th May 2020 10:24 AM\\n\\t\\t\\t\\t\\t \\n\\t\\t\\t\\tThis is based on the fact that there are 34,454,300 Ugandans aged six years and above as per Uganda Bureau of Statistics (UBOS) population projections for 2020.\\n\\t\\t\\t This is based on the fact that there are 34,454,300 Ugandans aged six years and above as per Uganda Bureau of Statistics (UBOS) population projections for 2020. COVID-19Uganda needs a total of at least 35 million masks if every Ugandan aged six years and above is to receive a free mask from the Government in accordance with President Yoweri Museveni’s directive.This is based on the fact that there are 34,454,300 Ugandans aged six years and above as per Uganda Bureau of Statistics (UBOS) population projections for 2020.Find the projections of how much the government would need and an analysis of its ability to afford this in the New Vision today. Click Epaper\\xa0for your copy Remembering Dr. John Garang de Mabior Pomp as Rema's new lover visits her parents Seven dead in east DR Congo raid blamed on Ugandan rebels... \\n\\t\\t\\t\\t20 May 2020\\n\\t\\t\\t\\t \\n\\t\\t\\t\\t20 May 2020\\n\\t\\t\\t\\t \\n\\t\\t\\t\\t20 May 2020\\n\\t\\t\\t\\t \\n\\t\\t\\t\\t20 May 2020\\n\\t\\t\\t\\t \\n\\t\\t\\t\\t20 May 2020\\n\\t\\t\\t\\t © 2019 - New Vision. All Rights Reserved. \\n\\t\\t\\t\\t\\t\\tKindly provide your details to receive the Newvision Newsletter\\n\\t\\t\\t\\t\\t \\n\\t\\t\\t\\t\\t\\t\\tBy Miriam Namutebi\\n\\t\\t\\t\\t\\t\\t \\n\\t\\t\\t\\t\\t\\t\\tAdded 19th May 2020 08:53 PM\\n\\t\\t\\t\\t\\t\\t                                     \\n\\t\\t\\t\\tIn the fight against the COVID-19 pandemic, the Parliament has led by example. The legislators have put government measures meant to curb the virus into action. The Speaker Rebecca Kadaga and her commission went to the drawing board and came up with a way of implementing the measures.\\n\\t\\t\\t Copyright © 2019 New Vision. All Rights Reserved. \\n\\t\\t\\t\\t\\t\\tKindly provide your details to receive the Newvision Newsletter\\n\\t\\t\\t\\t\\t \\n\\t\\t\\t\\t\\t\\tBy Julius  Luwemba\\n\\t\\t\\t\\t\\t \\n\\t\\t\\t\\t\\t\\tAdded 19th May 2020 08:48 PM\\n\\t\\t\\t\\t\\t \\n\\t\\t\\t\\tWhat used to be a compound, is now an extension of Lake Victoria and the nuns have to use a boat if they're to access any corner of the compound, or crossing from one dormitory to another.\\n\\t\\t\\t \\n\\t\\t\\t\\t\\t\\t The building which was opened by Arcgbishop Cyprian Kizito Lwanga in 2013, is now abandoned after being cut off by the risen water levels of Lake Victoria. Photos by Julius Luwemba\\n\\t\\t\\t\\t\\t What used to be a compound, is now an extension of Lake Victoria and the nuns have to use a boat if they're to access any corner of the compound, or crossing from one dormitory to another. \\xa0 LAKE VICTORIA | CLIMATE CHANGEWAKISO - Kyasira home of hope, which is managed by Good Samaritan Sisters of Kisubi used to accommodate over 80 orphans.   From the orphanage, children would be taken to different schools for their education.   However, the rising water levels of Lake Victoria have not spared the orphanage, wrecking all structures including dormitories, kitchen, stores, and toilets.   What used to be a compound, is now an extension of Lake Victoria and the nuns have to use a boat if they're to access any corner of the compound, or crossing from one dormitory to another. \\xa0 \\xa0 \\xa0 \\xa0 \\xa0 \\xa0Read the detail in today's New Vision or click the Epaper. American jailed over illegal possession of firearms Senior police officers’ drug case adjourned again Today in pictures - January 8, 2020 \\n\\t\\t\\t\\t20 May 2020\\n\\t\\t\\t\\t \\n\\t\\t\\t\\t20 May 2020\\n\\t\\t\\t\\t \\n\\t\\t\\t\\t20 May 2020\\n\\t\\t\\t\\t \\n\\t\\t\\t\\t20 May 2020\\n\\t\\t\\t\\t \\n\\t\\t\\t\\t20 May 2020\\n\\t\\t\\t\\t © 2019 - New Vision. All Rights Reserved. \\n\\t\\t\\t\\t\\t\\tKindly provide your details to receive the Newvision Newsletter\\n\\t\\t\\t\\t\\t \\n\\t\\t\\t\\t\\t\\tBy Shamim Saad\\n\\t\\t\\t\\t\\t \\n\\t\\t\\t\\t\\t\\tAdded 19th May 2020 08:49 PM\\n\\t\\t\\t\\t\\t \\n\\t\\t\\t\\tUnlike the previous years, many Muslims are finding it hard to break their fast during this holy month of Ramathan. \\n\\t\\t\\t \\n\\t\\t\\t\\t\\t\\t When Muslim were hosted to an Iftar dinner at State House in 2017. It will not  happen this year due to the Corona out break.\\n\\t\\t\\t\\t\\t Unlike the previous years, many Muslims are finding it hard to break their fast during this holy month of Ramathan.  Unlike the previous years, many Muslims are finding it hard to break their fast during this holy month of Ramathan.\\xa0Shamim Saad spoke to a few and this is what they had to say. \\xa0 Juma Awath 36 years, Fashionista This year, things are really tough on Muslims if we are to compare with previous years. I strongly attribute it to the Corona pandemic. My Muslim brothers and sisters used fast with hopes of getting food to break their fast at different mosques but they can no longer gather at mosques. They are struggling and have to depend on their savings and government’s posho and beans. I pray to God to provide and enable them to finish this holy month seamlessly. \\xa0 \\xa0 \\xa0Sophie Ahmed Hamdan 38 years, Business Woman Of course this year can’t be like previous ones as far as iftar is concerned. Although there is a lot of food at the market, money is scarce in this Corona season. We ration what we eat and keep the rest for the following day. But I thank Allah, we have never lacked. Sadat Salim, 40 years, Imam Naguru Go-down Mosque On my side, I thank Allah because there is no difference in my Iftar if I am to compare it with the previous years. I have never doubted Allah and he has provided for my family. However, the situation is different at my mosque. There are Muslim brothers and sisters who would fast and entirely depend on Iftar at the mosque but with this lockdown, which restricts gathering they can no longer gather to break their fast. Even those who were willing to provide iftar to such people can’t which has really affected them. I pray for Allah to enable them through. \\xa0 Rukia Khamis 48 years, Chef This Iftar has been the most difficult ever since I started fasting because the country is in lockdown, it has limited our movement so we can’t work hence making breaking the fast a hard task. Some of us would rely on Iftar at mosques but they are closed making it hard for us to break our fasts. Zaitun Ismail 49 years, Former Air hostess Being a widow and a single mother, this iftar is the worst I have evern had. Life is hard as most of the times, I lack food to eat while breaking my fast. I rely on my neighbours who share with what they have prepared. I got government’s relief food but at times I lack charcoal to cook. But amists all these challenges, I have kept my faith high and continue with my fasting. Insha-Allah things will get better. Ayub Ambar 80 years, Retired Carpenter I have not noticed any difference in this year’s Iftar compared to previous years simply because some good friend gave me enough money (sadaque) to cater for me and my family’s iftar. \\xa0 I also help my neighbours who are struggling with iftar. I thank him so much may Allah bless him abundantly. Musa Mahmoud 29 years, Administrator This is far different from other years because people are at home and not working. Most people’s salaries were cut making life hard and unable to have good meal for iftar and Daku. The money they earn is less, the biggest percentage goes to rent and they are left with little meant for food at the end of the day making life and fasting really hard for them. \\xa0 \\xa0 Aisha Goodo, House wife There is a big difference in this year’s iftar compared to other years. Being in lockdown it is really tough on the Muslims side. We are keen on the amount of food we cook, no wasting because you are not sure of the next day’s meal. \\xa0 \\xa0 Mango farmers in Lango to gain value addition skills Poor packaging failing Ugandan goods Schools gear up for Toto Christmas festival \\n\\t\\t\\t\\t20 May 2020\\n\\t\\t\\t\\t \\n\\t\\t\\t\\t20 May 2020\\n\\t\\t\\t\\t \\n\\t\\t\\t\\t20 May 2020\\n\\t\\t\\t\\t \\n\\t\\t\\t\\t20 May 2020\\n\\t\\t\\t\\t \\n\\t\\t\\t\\t20 May 2020\\n\\t\\t\\t\\t © 2019 - New Vision. All Rights Reserved. \\n\\t\\t\\t\\t\\t\\tKindly provide your details to receive the Newvision Newsletter\\n\\t\\t\\t\\t\\t\"}"
      ]
     },
     "execution_count": 33,
     "metadata": {},
     "output_type": "execute_result"
    }
   ],
   "source": [
    "new_vision_news"
   ]
  },
  {
   "cell_type": "code",
   "execution_count": 34,
   "metadata": {},
   "outputs": [],
   "source": [
    "daily_monitor_news"
   ]
  },
  {
   "cell_type": "markdown",
   "metadata": {},
   "source": [
    "**Store text in `mongodb` database**"
   ]
  },
  {
   "cell_type": "code",
   "execution_count": 35,
   "metadata": {},
   "outputs": [
    {
     "data": {
      "text/plain": [
       "<pymongo.results.InsertOneResult at 0x7f243b85cdc8>"
      ]
     },
     "execution_count": 35,
     "metadata": {},
     "output_type": "execute_result"
    }
   ],
   "source": [
    "col.insert_one(new_vision_news)"
   ]
  },
  {
   "cell_type": "code",
   "execution_count": 37,
   "metadata": {},
   "outputs": [],
   "source": [
    "# col.insert_one(daily_monitor_news)"
   ]
  },
  {
   "cell_type": "code",
   "execution_count": null,
   "metadata": {},
   "outputs": [],
   "source": []
  }
 ],
 "metadata": {
  "kernelspec": {
   "display_name": "Python 3",
   "language": "python",
   "name": "python3"
  },
  "language_info": {
   "codemirror_mode": {
    "name": "ipython",
    "version": 3
   },
   "file_extension": ".py",
   "mimetype": "text/x-python",
   "name": "python",
   "nbconvert_exporter": "python",
   "pygments_lexer": "ipython3",
   "version": "3.6.10"
  }
 },
 "nbformat": 4,
 "nbformat_minor": 2
}
