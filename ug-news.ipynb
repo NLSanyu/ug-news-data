{
 "cells": [
  {
   "cell_type": "markdown",
   "metadata": {},
   "source": [
    "### Fetching Ugandan news data"
   ]
  },
  {
   "cell_type": "markdown",
   "metadata": {},
   "source": [
    "**Import the `BeautifulSoup` library for web scraping and `requests` for making web requests**"
   ]
  },
  {
   "cell_type": "code",
   "execution_count": 30,
   "metadata": {},
   "outputs": [],
   "source": [
    "import re\n",
    "import requests\n",
    "from bs4 import BeautifulSoup\n",
    "import datetime"
   ]
  },
  {
   "cell_type": "markdown",
   "metadata": {},
   "source": [
    "**Setting up `pymongo`, a package used to connect with `MongoDB`, where the news data will be stored**"
   ]
  },
  {
   "cell_type": "code",
   "execution_count": 2,
   "metadata": {},
   "outputs": [],
   "source": [
    "import pymongo\n",
    "db_client = pymongo.MongoClient()\n",
    "news_db = db_client[\"ug_news\"]\n",
    "col = news_db[\"news\"]"
   ]
  },
  {
   "cell_type": "code",
   "execution_count": 62,
   "metadata": {},
   "outputs": [],
   "source": [
    "def clean_article_text(paragraphs):\n",
    "    cleaned_text = []\n",
    "    for p in paragraphs:\n",
    "        p_text = p.get_text().strip()\n",
    "        if p_text.startswith((\"By \", \"Added \")):\n",
    "            continue\n",
    "        cleaned_text.append(p2)\n",
    "    return \" \".join(cleaned_text)"
   ]
  },
  {
   "cell_type": "code",
   "execution_count": 63,
   "metadata": {},
   "outputs": [],
   "source": [
    "def store_articles(entry):\n",
    "    timestamp = datetime.datetime.now()\n",
    "    db_entry = {timestamp.strftime(\"%m/%d/%Y, %H:%M:%S\"): entry}"
   ]
  },
  {
   "cell_type": "markdown",
   "metadata": {},
   "source": [
    "**Define and call a method for fetching data from the `New Vision` online newspaper**"
   ]
  },
  {
   "cell_type": "code",
   "execution_count": 64,
   "metadata": {},
   "outputs": [
    {
     "data": {
      "text/plain": [
       "{'Foreign truck drivers struck off COVID-19 case count': 'The health ministry, in a tweet announcing results for tests done on May 20 said, that cases involving foreign cargo truck drivers confirmed in Uganda have been struck off the list following a presidential directive. COVID-19\\xa0 \\xa0 \\xa0 \\xa0MUSEVENI\\xa0 \\xa0 \\xa0TRUCK DRIVERS Uganda has struck foreign cargo truck drivers off its list of confirmed cases of coronavirus disease. Subsequently, the number of cases recorded within the country’s borders has reduced from 264 published on Tuesday to 145.The health ministry, in a tweet announcing results for tests done on May 20 said, that cases involving foreign cargo truck drivers confirmed in Uganda have been struck off the list following a presidential directive.Earlier, the ministry added foreign cargo truck drivers who tested positive within the country, to its case count on the recommendation of the World Health Organisation. A substantial number of positive cases confirmed in Uganda in the recent weeks involve foreign truck drivers. Most of the samples from the community have been turning out negative.\\xa0\\xa0Uganda confirmed its first case on May 21. Uganda has since implemented a raft of measures, including closure of Entebbe International airport and a ban on public transport, to halt the spread of the novel virus.However, in his 14th\\xa0address on COVID-19, President Yoweri Museveni relaxed measures on operations of some businesses. A ban on movement on private cars will be lifted on May 26 and public transport will resume on June 4 in the non-border districts.But travellers in private and public transport vehicles will be required to wear face masks. In addition, all people are expected to wear face masks to public spaces. I am leaving a happy man, says Prof. Kabwegyere Tumwine starts work Buliisa oil plant named after an antelope 21 May 2020 21 May 2020 21 May 2020 21 May 2020 21 May 2020 © 2019 - New Vision. All Rights Reserved. Kindly provide your details to receive the Newvision Newsletter',\n",
       " 'Plight of ethnic minority groups as Uganda battles COVID-19': 'Other ethnic groups despise them on the basis of their traditions, current coping mechanisms, and livelihood challenges. Uganda has a population of more than 42 million people Other ethnic groups despise them on the basis of their traditions, current coping mechanisms, and livelihood challenges. OPINION By\\xa0Sylvia Muwebwa Ntambi These are the Aliba, Bahehe, Banyabindi, Banyabutumbi, Basongora, Batwa, Gimara, Ik, Lendu, Mening, Mvuba, Ngikutio, Nyangia, Reli, Shana, Tepeth and the Vonoma. Other groups that have not been listed in either the national population Census report of Uganda or in the Constitution of the republic of Uganda but claim status as a minority group include; the Benet, the Barundi, Bagangaizi, Bayaga, Basese, Meru, Mwangwar, Bakingwe and Banyanyanja.In addition, there are a number of groups in Uganda that have been identified as satisfying the World Bank’s policy for the identification of indigenous ethnic communities-these include the Batwa, Benet, and Ik.These people have historically suffered and continue to suffer disempowerment and discrimination on economic, social, Politically, and cultural grounds.\\xa0In addition, discrimination, poverty, and exclusion directly affect their ability to be employed in the mainstream Ugandan society.\\xa0The majority of ethnic minority communities remain isolated from the rest of the Ugandan society due to their cultural practices which impact negatively on their possibility of taking advantage of opportunities open to them.\\xa0\\xa0Although other interest groups are represented in parliament, the ethnic minority groups are not.\\xa0Other ethnic groups despise them on the basis of their traditions, current coping mechanisms, and livelihood challenges.\\xa0Many of them live from hand to mouth, by; exchanging their labor for food, performing their cultural dances especially in commercial sex (quite often unprotected) among other life-threatening activities.An African Commission report on the situation of indigenous peoples in Uganda reveals a disproportionate lack of access to services by these communities. It indicates that over 89% of Indigenous Ethnic Minorities are landless; that “child mortality rate was 41% while for non-ethnic minorities was 17% and that the infant mortality rate for ethnic minorities was 21% and for non- ethnic minorities were 5%”\\xa0Ethnic minorities have quite a number of challenges in their communities in respect to education, health care, infrastructure, lack of employment opportunities, land evictions, and the inclusion in the social protection government programs such as Social Assistance Grants for Empowerment (SAGE), Uganda Women Entrepreneurship Programme (UWEP), Youth Livelihood Program (YLP) and Operation Wealth Creation.On the above pretext, in the prevailing circumstances of the COVID – 19 Pandemic, my thoughts are with these communities because of their vulnerability.\\xa0Many questions have come up in respect to these communities in the prevailing pandemic such as: How are they accessing food and other relief supplies? How are they accessing medical services? In the case of any Covid-19 case in their communities, how will they protect themselves? How many among them can access or afford the protective gear? how do the pregnant women from amongst these groups accessing antenatal services? Are the ethnic minorities accessing the information on COVID-19 in the languages they understand? What about those ethnic minority group living in islands, how are they accessing social amenities? And these are just a few of the questions I have.Now, in order to deal with these people’s situations concurrently, there is need for the relevant task forces across the country to take care of these groups through affirmative action. The district taskforces should create ideas or innovations on how they can mitigate the prevailing challenges in these communities during this pandemic.\\xa0According to the Cross-Cultural Foundation of Uganda, many ethnic minority groups do not have land to cultivate. Several have lost land and other means to survive due to civil strife or government policies on forests and wildlife conservation. These are some of the issues that should be put into consideration by the different district taskforces to help out these communitiesMany of them are laborers who survive on a hand-to-mouth basis. Therefore, just like the COVID-19 situation has affected the people in the urban centres across the country, the ethnic minorities are also struggling to survive.Subsequently, the national and district taskforces should priorities sending food to these groups; otherwise, there is a risk of creating another catastrophe of malnutrition, death out of hunger, and insecurity.According to statistics, there are 65 officially indigenous communities in Uganda. Each of these speaks a unique language. There is a need for information on Covid-19 to be decoded for these groups to be able to conceive the messages. As the government is sending messages on radios these groups should be put into consideration to articulate messages in their own languages.Whereas it would be preferable to have functional public health facilities everywhere in the country – village/parish level, it is still difficult for these communities to access health facilities.The government should facilitate all the nearest Health Centres III and missionary hospitals around those communities in order to manage Covid-19 in case of any imported cases.The government should also put into consideration the plight of ethnic minorities in accessing education while distributing educational materials. Most of them leave in hard to reach areas hence they stand a risk of missing out. The commission would recommend that for purposes of equity, such communities should be considered first through affirmative action.Because of the heavy rains, many ethnic tribes like the Batwa and the Ik - among others are living in fear of mud and landslides. And because of the Covid-19 guidelines, these people cannot easily move to other places and yet the risks keep increasing by the day. There is a need for the Office of the Prime Minister through the ministry of Relief and Disaster Preparedness to evacuate these people before it is too late. This will also prevent them from violating the guidelines put in place by the President of the Republic of Uganda and health experts hence spreading the virus through the community.As a mandate, the commission will continue to redress imbalances and eliminate all inequalities in order that we realise a just and fair society where all persons have equal opportunity to participate and benefit in all spheres of political, economic, social and cultural life.The writer is the\\xa0Chairperson Equal Opportunities Commission (EOC) Let us focus on service delivery, not age in 2019 What is the economic cost of increasing Uganda’s debt burden?... Guard shoots one dead, injures two near Old Taxi Park 21 May 2020 21 May 2020 21 May 2020 21 May 2020 21 May 2020 © 2019 - New Vision. All Rights Reserved. Kindly provide your details to receive the Newvision Newsletter',\n",
       " 'Coronavirus cases top five million worldwide: AFP tally': \"The number of novel coronavirus cases declared worldwide broke through five million on Thursday. CORONAVIRUS PANDEMIC The number of novel coronavirus cases declared worldwide broke through five million on Thursday in an AFP tally of officially recorded infections at 0730 GMT. At least 5,006,730 cases, including 328,047 fatalities have been registered. Europe has been the hardest hit with 1,954,519 cases and 169,880 deaths while the United States has 1,551,853 cases and 93,439 deaths. The statistics represent only a fraction of the exact total of cases with many countries testing only the most serious infections.  UN list of firms linked to Israeli settlements a 'waste... US extends protected status for some 7,000 Syrians Venezuela says UN chief 'went too far' in Guyana border... 21 May 2020 21 May 2020 21 May 2020 21 May 2020 21 May 2020 © 2019 - New Vision. All Rights Reserved. Kindly provide your details to receive the Newvision Newsletter\",\n",
       " 'WHO records highest daily number of COVID-19 cases': 'The UN agency\\'s chief Tedros Adhanom Ghebreyesus said that on Tuesday, there were \"106,000 cases reported to WHO -- the most in a single day since the outbreak began\" in December. The UN agency\\'s chief Tedros Adhanom Ghebreyesus said that on Tuesday, there were \"106,000 cases reported to WHO -- the most in a single day since the outbreak began\" in December. Arsenal held, Chelsea beaten at home, Spurs win Martial double fires Man Utd in Newcastle rout Liverpool thrash Leicester to stretch lead 21 May 2020 21 May 2020 21 May 2020 21 May 2020 21 May 2020 © 2019 - New Vision. All Rights Reserved. Kindly provide your details to receive the Newvision Newsletter',\n",
       " 'Vipers declared 2019/20 Premier League champions': 'After being declared champions, Kitende-based Vipers will next represent Uganda in the CAF Champions League while KCCA will carry Uganda\\'s flag in the CAF Confederation Cup. Vipers had last won the league in 2018 (pictured). It means they now have four league titles to their name. (Credit: Mpalanyi Ssentongo) After being declared champions, Kitende-based Vipers will next represent Uganda in the CAF Champions League while KCCA will carry Uganda\\'s flag in the CAF Confederation Cup. CORONAVIRUS & SPORTSKAMPALA - Vipers have claimed their fourth league title after being declared champions of the StarTimes Uganda Premier League for the 2019/20 season.This was announced by the president of Uganda\\'s football governing body FUFA, Moses Magogo, on Wednesday at a press conference.  Magogo revealed that basing on President Yoweri Museveni\\'s latest address on the coronavirus situation in Uganda, sports might take much longer to resume. For that reason, the FUFA Executive decided to apply Article 18, Sections C and D of the Competition Rules to declared the Venoms champions.It states that incase of an emergency - like the current coronavirus pandemic - when the league cannot go on and if 75%of the league has been played, the club on top of the table standings at the time can be declared the winner.\\'\\'Where at least one club has played more than 75% of the league, the following formula shall be used by TOC (tournament organizing committee) to determine the table positions for the respective group”.“Total number of points earned from the number of games played multiplied by the total number of games supposed to be played divided by the number of games played,\" read the rules.  .@VipersSC to represent Uganda in the @CAF_Online and @KCCAFC to represent Uganda in the @CAF_Online Confederation Cup. #FUFAPresidentAddress pic.twitter.com/DkqrkJ1FPF Meanwhile, FUFA Big League group leaders Myda FC and UPDF have been promoted to the top tier while Kiboga, Kataka, Kitara and Ndejje will faceoff in a playoff to determine the third team to be promoted to the topflight.In the Regional Leagues, the first-round table standings will be considered for playoffs while at the competitions at district level will have neither a champion or teams relegated.The FUFA Juniors League has also been cancelled. _________________________REMEMBER WHEN VIPERS WON THE TITLE IN 2018?This year (2020), there will be muted celebrations in the Vipers camp for their fourth league title due to the coronavirus lockdown that has plunged local sports into freeze mode.So if you are a Venoms fan, what better way to help you celebrate than to relive the moments your team won the title in 2018! Let us lead you down memory lane with these pictures that captured the mood at St. Mary\\'s Stadium in Kitende . . .  Such were the scenes after Vipers sealed their third Uganda Premier League title. At the time, it was a mood of excitement and sporting ecstasy.\\xa0 Miguel Jorge Da Costa was the man in charge at the time and winning the title got him as overjoyed as anyone else in that stadium.That was June 2018.Only a month later, however, the Portuguese tactician would go on to be dismissed by the Kitende-based club. In the stands, the fans were equally ecstatic. On the pitch, the players upped their groove game, twisting and gyrating their athletic frames in musical celebration. At the time, Vipers had last won the title three years back (in 2015).Both players and fans soon realised that winning could very much become a habit for them. And they loved every bit of the idea! The elated players then took turns for a photo opportunity, making sure to display their objects of triumph (trophy and medal).Some wanted to be frozen in time with their loved ones. This was a big, big day! Dan Sserunkuuma has always been and still is a prolific forward. He surely knew what victory tasted like, especially having previously enjoyed stints with Kenyan league giants Gor Mahia. Such were pictures to frame and keep forever.And also to keep for memories on a rainy day - like present day, when it is not possible, due to the lockdown measures, to celebrate the way they did back in 2018. The potent of the Venoms had been felt. They were the champions! A memorable day, that one.Fast-forward to present day, and Vipers have done it again - of course under completely different circumstances.Congratulations!  Onyango ruled out of KCCA tie Onduparaka face in form Police today Champions Kawempe Muslim extend unbeaten run 21 May 2020 21 May 2020 21 May 2020 21 May 2020 21 May 2020 © 2019 - New Vision. All Rights Reserved. Kindly provide your details to receive the Newvision Newsletter'}"
      ]
     },
     "execution_count": 64,
     "metadata": {},
     "output_type": "execute_result"
    }
   ],
   "source": [
    "def fetch_new_vision():\n",
    "    \"\"\"Fetch data from the New Vision online newspaper\"\"\"\n",
    "    \n",
    "    # Fetch data from the New Vision online coverpage\n",
    "    url = \"https://www.newvision.co.ug\"\n",
    "    news_href = re.compile(r\"https://www.newvision.co.ug/new_vision/news/\")\n",
    "\n",
    "    news_request = requests.get(url)\n",
    "    coverpage = news_request.content\n",
    "    \n",
    "    # Pick out the anchor tags to get the links to the actual news articles\n",
    "    soup1 = BeautifulSoup(coverpage, 'html5lib')\n",
    "    article_links = soup1.find_all(href=news_href)\n",
    "    \n",
    "    \n",
    "    # Follow each link and fetch the article content\n",
    "    all_articles = dict()\n",
    "\n",
    "    for link in article_links:\n",
    "        article = requests.get(link['href'])\n",
    "        article_content = article.content\n",
    "        soup2 = BeautifulSoup(article_content, 'html5lib')\n",
    "        title = soup2.find('h1').get_text()\n",
    "        paragraphs = soup2.find_all('p')\n",
    "        cleaned_article = clean_article_text(paragraphs)\n",
    "        all_articles[title] = cleaned_article\n",
    "            \n",
    "    return all_articles\n",
    "\n",
    "fetch_new_vision()"
   ]
  },
  {
   "cell_type": "markdown",
   "metadata": {},
   "source": [
    "**Define and call a method for fetching data from the `Daily Monitor` online newspaper**"
   ]
  },
  {
   "cell_type": "code",
   "execution_count": 18,
   "metadata": {},
   "outputs": [],
   "source": [
    "def fetch_daily_monitor():\n",
    "    pass\n",
    "\n",
    "fetch_daily_monitor()"
   ]
  },
  {
   "cell_type": "markdown",
   "metadata": {},
   "source": [
    "**Store text in `mongodb` database**"
   ]
  },
  {
   "cell_type": "code",
   "execution_count": 35,
   "metadata": {},
   "outputs": [
    {
     "data": {
      "text/plain": [
       "<pymongo.results.InsertOneResult at 0x7f243b85cdc8>"
      ]
     },
     "execution_count": 35,
     "metadata": {},
     "output_type": "execute_result"
    }
   ],
   "source": [
    "col.insert_one(new_vision_news)"
   ]
  },
  {
   "cell_type": "code",
   "execution_count": 37,
   "metadata": {},
   "outputs": [],
   "source": [
    "# col.insert_one(daily_monitor_news)"
   ]
  },
  {
   "cell_type": "code",
   "execution_count": null,
   "metadata": {},
   "outputs": [],
   "source": []
  }
 ],
 "metadata": {
  "kernelspec": {
   "display_name": "Python 3",
   "language": "python",
   "name": "python3"
  },
  "language_info": {
   "codemirror_mode": {
    "name": "ipython",
    "version": 3
   },
   "file_extension": ".py",
   "mimetype": "text/x-python",
   "name": "python",
   "nbconvert_exporter": "python",
   "pygments_lexer": "ipython3",
   "version": "3.6.10"
  }
 },
 "nbformat": 4,
 "nbformat_minor": 2
}
