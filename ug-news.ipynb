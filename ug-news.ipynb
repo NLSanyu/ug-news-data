{
 "cells": [
  {
   "cell_type": "markdown",
   "metadata": {},
   "source": [
    "### Fetching Ugandan news data"
   ]
  },
  {
   "cell_type": "markdown",
   "metadata": {},
   "source": [
    "**Import the `BeautifulSoup` library for web scraping and `requests` for making web requests**"
   ]
  },
  {
   "cell_type": "code",
   "execution_count": 13,
   "metadata": {},
   "outputs": [],
   "source": [
    "import requests\n",
    "from bs4 import BeautifulSoup"
   ]
  },
  {
   "cell_type": "markdown",
   "metadata": {},
   "source": [
    "**Fetch data from the `New Vision` online coverpage**"
   ]
  },
  {
   "cell_type": "code",
   "execution_count": 14,
   "metadata": {},
   "outputs": [],
   "source": [
    "url = \"https://www.newvision.co.ug\"\n",
    "news_href = \"https://www.newvision.co.ug/new_vision/news/\"\n",
    "\n",
    "news_request = requests.get(url)\n",
    "coverpage = news_request.content"
   ]
  },
  {
   "cell_type": "markdown",
   "metadata": {},
   "source": [
    "**Pick out the anchor tags to get the links to the actual news articles**"
   ]
  },
  {
   "cell_type": "code",
   "execution_count": 15,
   "metadata": {},
   "outputs": [],
   "source": [
    "soup1 = BeautifulSoup(coverpage, 'html5lib')\n",
    "article_links = soup1.find_all('a')"
   ]
  },
  {
   "cell_type": "markdown",
   "metadata": {},
   "source": [
    "**Follow each link and fetch the article content**"
   ]
  },
  {
   "cell_type": "code",
   "execution_count": 20,
   "metadata": {},
   "outputs": [
    {
     "name": "stdout",
     "output_type": "stream",
     "text": [
      "[<p>\n",
      "\t\t\t\t\t\tBy Admin\n",
      "\t\t\t\t\t</p>, <p>\n",
      "\t\t\t\t\t\tAdded 19th May 2020 12:52 PM\n",
      "\t\t\t\t\t</p>, <p>\n",
      "\t\t\t\tReason? He had a terrible accident in the bathroom. “While leaving the bathroom, I slipped and fell badly. My bone was broken (bone fracture).\n",
      "\t\t\t</p>, <p>\n",
      "\t\t\t\t\t\t Saidi Kasule had a terrible accident in the bathroom. While in the bathroom, he slipped and fell badly. He broke his bone (bone fracture). (Courtesy photo)\n",
      "\t\t\t\t\t</p>, <p>Reason? He had a terrible accident in the bathroom. “While leaving the bathroom, I slipped and fell badly. My bone was broken (bone fracture).</p>, <p><strong>By Emmanuel Ssejjengo</strong><br/><br/><strong>Saidi Kasule, a legendary Afrigo Band saxophonist was yesterday Monday taken to Corsu hospital in Entebbe for treatment after President Yoweri Museveni fulfilled his pledge. Kasule recently sustained a born fracture.</strong><br/><br/>On Monday, music promoter Balaam Barugahara told New Vision that “After watching the Afrigo Band star reaching out to the public for help, I contacted the President who has positively responded.”<br/><br/></p>, <p> <br/><img/>Barugahara who represented Museveni gave in sh15m of the required sh18m that is needed for Kasule's treatment. Barugahara said the balance will be cleared today (Tuesday).<br/><br/><strong>SAIDI KASULE: THE BROKEN SAXOPHONE PLAYS ON</strong><br/><br/>If there is a section of Afrigo Band that has always stood out, it is the brass. Since the 1970s, the brass section has been the face, ears and eyes of the outfit. <br/><br/>So, when there was news that the giant of the group had fallen, silence befell a section of Ugandan music fans. The giant that fell is Saidi Kasule, the man who hovers over band leader, Moses Matovu, as the two-play sax.<br/><br/>He is unmistakable for his fashion sense and has not been seen on any stage for about nine months now. <br/><br/>Reason? He had a terrible accident in the bathroom. “While leaving the bathroom, I slipped and fell badly. My bone was broken (bone fracture) and I am still incapable of standing properly for long periods. I am in so much pain I cannot do any work,” he narrated when we visited him at his home in Ndeeba, Kampala, recently. <br/><br/>The home is a reflection of Saidi (band members and fans keep calling and refer to him on first-name basis). His humility hovers over you as you approach him, amid the hyperactivity that is going on around it. <br/><br/>He has a big family of up to eight people at the home right now. And more than anything else, they have recently been fed more on the sound of his saxophone. <br/><br/>Even when we visited, Kasule was seated on the verandah platform with his saxophone, and with hazy eyes, looked like he was lost in a trance of sorts. It prepared me for a sad story concerning his medical treatment. <br/><br/><strong>HIS STORY</strong><br/><br/>His story takes on a structure of a typical Afrigo song, with many instrumental solos. It goes back and forth, and he does not seem interested in telling the whole of it. Using brief statements, such as musical notes, Kasule leaves me gaping for more. <br/><br/>“I am now 67 years old. I joined Afrigo Band in 1977,” he begins. Kasule narrates that he had formerly been a member of the Crane Band.<br/><br/> From his early adult years, Moses Matovu has been a big influence on his music choices and it is no wonder he picked up the same instrument like his mentor. <br/><br/>They had been together in Crane Band and when Matovu left to form Afrigo Band, Kasule followed soon. <br/><br/><strong>THE ACCIDENT</strong><br/><br/>“It was a Sunday, although I cannot remember the date,” Saidi breaks the tale. It requires more prompting for him to continue.<br/><br/>“The children had just cleaned the bathroom, but had not dried the floor well,” his tempo is now up, “So, as I was walking out, I stepped on the wet floor, slipped and fell down,” he continues and when we expected him to take us through the emotions he felt, he ends with an anticlimax, <br/><br/>“That was nine months ago.” Kasule is one of those musicians who find difficulty expressing themselves through conversation. It is, perhaps, why they resort to music. His incoherent tale may be a pointer to that. <br/><br/>But that is only the theory of it. From the facial expression, you see pain in his wrinkles, although the eyes seemingly sparkle with hope. He is a man still full of life and the vigour of youth until that bathroom accident. <br/><br/>“With a broken born, I decided to go to a friend of mine, who is a doctor, in Makindye, Kampala,” Kasule says. He does not reveal the doctor’s name and only refers to him as Omuyunzi wange (orthopedic doctor). <br/><br/>Kasule explains that for many days, he could not stand up and spent all the time in bed. However, at the time when he had just witnessed remarkable progress on the road to recovery, his orthopedic doctor fell sick and left for an operation. <br/><br/>Kasule resorted to self-medication, which was in the form of massaging himself. “I sometimes asked my son to massage the leg,” he reveals. <br/><br/>With not much change, Kasule decided to go to Nsambya Hospital in Kampala, where he got the necessary treatment. “The scan showed that the thigh bone had been detached from the hip. I still need a lot of money for it to be fixed so that I can get back on my feet,” he explains. <br/><br/>The reason Kasule has not had the bone fixed yet is because he cannot afford. Call for help Kasule is calling out for good Samaritans to come to his aid since he is facing hospital bills to the tune of sh20m.<br/><br/>Already, he has got some help from his colleague and mentor, Moses Matovu, who “has provided treatment and looked after me.” Kasule also says the management of Afrigo Band, his friends and family, have also helped. And for a widower, whose wife passed on in 2009, it helps that he is still in close touch with his mother-in-law. <br/><br/>Pastor Robert Kayanja of Miracle Centre Cathedral, Rubaga has also sent relief food to his home twice. “My mother-in-law prays from Rubaga Miracle Centre and it is through her that we got food,” he says.<br/><br/>MUSIC AND MORE MUSIC <br/><br/>For a person who was born in Kisenyi, Mengo, a Kampala suburb and had education up to secondary school (Old Kampala SS), music is not only his heart and soul, but his livelihood. He does not study it, Kasule feels it. <br/><br/>He does not even keep a catalogue of his songs. When you ask for his profile as far as music goes, all he says is: “I am a saxophone player, singer and composer.” Since he started playing in a band in 1974, the longest he has gone without playing the sax is six months. <br/><br/>That is when he would not move from his bed soon after the accident. However, Kasule has been practicing in the last three months in order to get back in the game. “When you are in pain, it does not make the perfect sound, but there is at least a sound,” he cries.<br/><br/>Keeping count of the songs he has been involved in does not bother Kasule. He only mentions Nantongo and Twali Twagalana and makes it sound like a boring chorus. That is perhaps why he is quick to add: “It is because of music that I have four children and many grandchildren.” Kasule’s home is a combination of children, grandchildren and his mother-in- law.</p>, <p> </p>, <p><a href=\"/new_vision/news/1433143/exchange-rates\">Latest exchange rates</a></p>, <p><a href=\"/new_vision/news/1433144/todays-flight-info-entebbe-airport\">Today's flight info at Entebbe Airport</a></p>, <p><a href=\"/new_vision/news/1433145/saturday-weather-forecast\">Saturday weather forecast</a></p>, <p>\n",
      "\t\t\t\t19 May 2020\n",
      "\t\t\t\t</p>, <p>\n",
      "\t\t\t\t19 May 2020\n",
      "\t\t\t\t</p>, <p>\n",
      "\t\t\t\t19 May 2020\n",
      "\t\t\t\t</p>, <p>\n",
      "\t\t\t\t19 May 2020\n",
      "\t\t\t\t</p>, <p>\n",
      "\t\t\t\t19 May 2020\n",
      "\t\t\t\t</p>, <p>© 2019 - New Vision. All Rights Reserved.</p>, <p>\n",
      "\t\t\t\t\t\tKindly provide your details to receive the Newvision Newsletter\n",
      "\t\t\t\t\t</p>]\n",
      "[<p>\n",
      "\t\t\t\t\t\tBy AFP\n",
      "\t\t\t\t\t</p>, <p>\n",
      "\t\t\t\t\t\tAdded 19th May 2020 08:46 AM\n",
      "\t\t\t\t\t</p>, <p>\n",
      "\t\t\t\tFor now, the only medication approved for HIV prevention is a drug cocktail called PrEP, which stands for pre-exposure prophylaxis.\n",
      "\t\t\t</p>, <p>\n",
      "\t\t\t\t\t\t The new drug is being tested by scientists at China's Peking University. AFP / WANG ZHAO\n",
      "\t\t\t\t\t</p>, <p>For now, the only medication approved for HIV prevention is a drug cocktail called PrEP, which stands for pre-exposure prophylaxis.</p>, <p><a href=\"/new_vision/news/1499501/china-sentences-canadian-death-drug-trafficking\">China sentences another Canadian to death for drug trafficking...</a></p>, <p><a href=\"/new_vision/news/1472587/niger-attack-video-released-depravity-pentagon\">Niger attack video released by IS shows group's 'depravity':...</a></p>, <p><a href=\"/new_vision/news/1472586/weah-tells-nigeria-prepare-world-cup\">Weah tells Nigeria to prepare well for World Cup</a></p>, <p>\n",
      "\t\t\t\t19 May 2020\n",
      "\t\t\t\t</p>, <p>\n",
      "\t\t\t\t19 May 2020\n",
      "\t\t\t\t</p>, <p>\n",
      "\t\t\t\t19 May 2020\n",
      "\t\t\t\t</p>, <p>\n",
      "\t\t\t\t19 May 2020\n",
      "\t\t\t\t</p>, <p>\n",
      "\t\t\t\t19 May 2020\n",
      "\t\t\t\t</p>, <p>© 2019 - New Vision. All Rights Reserved.</p>, <p>\n",
      "\t\t\t\t\t\tKindly provide your details to receive the Newvision Newsletter\n",
      "\t\t\t\t\t</p>]\n"
     ]
    },
    {
     "name": "stdout",
     "output_type": "stream",
     "text": [
      "[<p>\n",
      "\t\t\t\t\t\tBy AFP\n",
      "\t\t\t\t\t</p>, <p>\n",
      "\t\t\t\t\t\tAdded 19th May 2020 07:57 AM\n",
      "\t\t\t\t\t</p>, <p>\n",
      "\t\t\t\tA drug being tested by scientists at China's prestigious Peking University could not only shorten the recovery time for those infected but even offer short-term immunity from the virus, researchers say. \n",
      "\t\t\t</p>, <p>\n",
      "\t\t\t\t\t\t The new drug is being tested by scientists at China's Peking University. AFP / WANG ZHAO\n",
      "\t\t\t\t\t</p>, <p>A drug being tested by scientists at China's prestigious Peking University could not only shorten the recovery time for those infected but even offer short-term immunity from the virus, researchers say. </p>, <p><a href=\"/new_vision/news/1485897/sa-superbug-kills-newborns-facility-closed\">SA superbug kills six newborns, facility closed</a></p>, <p><a href=\"/new_vision/news/1485898/fight-poverty-world-invest-africas-youth\">'To fight poverty, world should invest in Africa's youth'...</a></p>, <p><a href=\"/new_vision/news/1485902/abe-eyes-term-reform-japans-pacifist-constitution\">Abe eyes new term, reform of Japan's pacifist constitution...</a></p>, <p>\n",
      "\t\t\t\t19 May 2020\n",
      "\t\t\t\t</p>, <p>\n",
      "\t\t\t\t19 May 2020\n",
      "\t\t\t\t</p>, <p>\n",
      "\t\t\t\t19 May 2020\n",
      "\t\t\t\t</p>, <p>\n",
      "\t\t\t\t19 May 2020\n",
      "\t\t\t\t</p>, <p>\n",
      "\t\t\t\t19 May 2020\n",
      "\t\t\t\t</p>, <p>© 2019 - New Vision. All Rights Reserved.</p>, <p>\n",
      "\t\t\t\t\t\tKindly provide your details to receive the Newvision Newsletter\n",
      "\t\t\t\t\t</p>]\n",
      "[<p>\n",
      "\t\t\t\t\t\tBy John Tugume\n",
      "\t\t\t\t\t</p>, <p>\n",
      "\t\t\t\t\t\tAdded 19th May 2020 06:57 AM\n",
      "\t\t\t\t\t</p>, <p>\n",
      "\t\t\t\tTo bear the brunt of the directive were 32 drivers who, after testing positive for the virus, were blocked from entering the country and sent home.\n",
      "\n",
      "\n",
      "\t\t\t</p>, <p>\n",
      "\t\t\t\t\t\t 32 drivers tested positive for the virus\n",
      "\t\t\t\t\t</p>, <p>To bear the brunt of the directive were 32 drivers who, after testing positive for the virus, were blocked from entering the country and sent home.\n",
      "\n",
      "</p>, <p><strong>Uganda has started turning away foreign cargo truck drivers who test positive for COVID-19 following a Presidential directive.</strong></p>, <p>To bear the brunt of the directive were 32 drivers who, after testing positive for the virus on Monday, were blocked from entering the country and sent home.</p>, <p>According to the Ministry of Health, 12 new COVID-19 cases were confirmed in Uganda on Monday from 1,743 samples of truck drivers.</p>, <p>“All new cases are Ugandans. The total confirmed COVID-19 cases are now 260,” the ministry said in a tweet.</p>, <p>“32 foreign truck drivers who tested positive for COVID-19 were turned back to their respective countries,” the ministry added.</p>, <p>The announcement came just hours after President Yoweri Museveni announced a new on the lockdown that was pegged on the availability of free standard masks.</p>, <p>However, Museveni said in his address that foreign travel remained banned to avoid importing COVID-19 cases.</p>, <p>The President said Cabinet would sit to consider whether to carry out massive evacuation of Ugandans living abroad.</p>, <p> </p>, <p><a href=\"/new_vision/news/1514731/government-airlifts-pesticides-spray-locusts-karamoja\">Government airlifts pesticides to spray locusts in Karamoja...</a></p>, <p><a href=\"/new_vision/news/1514825/insecurity-hindering-fight-locust-africa-fao-expert\">Insecurity hindering fight against locust in Africa – FAO...</a></p>, <p><a href=\"/new_vision/news/1515465/museveni-cautions-lake-shores-river-banks\">Museveni cautions on using lake shores, river banks</a></p>, <p>\n",
      "\t\t\t\t19 May 2020\n",
      "\t\t\t\t</p>, <p>\n",
      "\t\t\t\t19 May 2020\n",
      "\t\t\t\t</p>, <p>\n",
      "\t\t\t\t19 May 2020\n",
      "\t\t\t\t</p>, <p>\n",
      "\t\t\t\t19 May 2020\n",
      "\t\t\t\t</p>, <p>\n",
      "\t\t\t\t19 May 2020\n",
      "\t\t\t\t</p>, <p>© 2019 - New Vision. All Rights Reserved.</p>, <p>\n",
      "\t\t\t\t\t\tKindly provide your details to receive the Newvision Newsletter\n",
      "\t\t\t\t\t</p>]\n"
     ]
    }
   ],
   "source": [
    "for link in article_links:\n",
    "    if news_href in link['href']:\n",
    "        article = requests.get(link['href'])\n",
    "        article_content = article.content\n",
    "        soup2 = BeautifulSoup(article_content, 'html5lib')\n",
    "        body = soup2.find('div', class_='article-content')\n",
    "        soup3 = BeautifulSoup(article_content, 'html5lib')\n",
    "        paragraphs = soup3.find_all('p')\n",
    "        print(paragraphs)"
   ]
  },
  {
   "cell_type": "code",
   "execution_count": null,
   "metadata": {},
   "outputs": [],
   "source": []
  }
 ],
 "metadata": {
  "kernelspec": {
   "display_name": "Python 3",
   "language": "python",
   "name": "python3"
  },
  "language_info": {
   "codemirror_mode": {
    "name": "ipython",
    "version": 3
   },
   "file_extension": ".py",
   "mimetype": "text/x-python",
   "name": "python",
   "nbconvert_exporter": "python",
   "pygments_lexer": "ipython3",
   "version": "3.6.10"
  }
 },
 "nbformat": 4,
 "nbformat_minor": 2
}
