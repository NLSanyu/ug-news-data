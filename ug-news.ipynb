{
 "cells": [
  {
   "cell_type": "markdown",
   "metadata": {},
   "source": [
    "### Fetching Ugandan news data"
   ]
  },
  {
   "cell_type": "markdown",
   "metadata": {},
   "source": [
    "**Import the `BeautifulSoup` library for web scraping and `requests` for making web requests**"
   ]
  },
  {
   "cell_type": "code",
   "execution_count": 10,
   "metadata": {},
   "outputs": [],
   "source": [
    "import requests\n",
    "from bs4 import BeautifulSoup\n",
    "import datetime"
   ]
  },
  {
   "cell_type": "markdown",
   "metadata": {},
   "source": [
    "**Setting up `pymongo`, a package used to connect with `MongoDB`, where the news data will be stored**"
   ]
  },
  {
   "cell_type": "code",
   "execution_count": 11,
   "metadata": {},
   "outputs": [],
   "source": [
    "import pymongo\n",
    "db_client = pymongo.MongoClient()\n",
    "news_db = db_client[\"ug_news\"]\n",
    "col = news_db[\"news\"]"
   ]
  },
  {
   "cell_type": "markdown",
   "metadata": {},
   "source": [
    "**Fetch data from the `New Vision` online coverpage**"
   ]
  },
  {
   "cell_type": "code",
   "execution_count": 12,
   "metadata": {},
   "outputs": [],
   "source": [
    "url = \"https://www.newvision.co.ug\"\n",
    "news_href = \"https://www.newvision.co.ug/new_vision/news/\"\n",
    "\n",
    "news_request = requests.get(url)\n",
    "coverpage = news_request.content"
   ]
  },
  {
   "cell_type": "markdown",
   "metadata": {},
   "source": [
    "**Pick out the anchor tags to get the links to the actual news articles**"
   ]
  },
  {
   "cell_type": "code",
   "execution_count": 13,
   "metadata": {},
   "outputs": [],
   "source": [
    "soup1 = BeautifulSoup(coverpage, 'html5lib')\n",
    "article_links = soup1.find_all('a')"
   ]
  },
  {
   "cell_type": "markdown",
   "metadata": {},
   "source": [
    "**Follow each link and fetch the article content**"
   ]
  },
  {
   "cell_type": "code",
   "execution_count": 17,
   "metadata": {},
   "outputs": [
    {
     "name": "stdout",
     "output_type": "stream",
     "text": [
      "{'05/20/2020, 08:40:12': \"\\n\\t\\t\\t\\t\\t\\t\\tBy Miriam Namutebi\\n\\t\\t\\t\\t\\t\\t \\n\\t\\t\\t\\t\\t\\t\\tAdded 19th May 2020 08:53 PM\\n\\t\\t\\t\\t\\t\\t                                     \\n\\t\\t\\t\\tIn the fight against the COVID-19 pandemic, the Parliament has led by example. The legislators have put government measures meant to curb the virus into action. The Speaker Rebecca Kadaga and her commission went to the drawing board and came up with a way of implementing the measures.\\n\\t\\t\\t Copyright © 2019 New Vision. All Rights Reserved. \\n\\t\\t\\t\\t\\t\\tKindly provide your details to receive the Newvision Newsletter\\n\\t\\t\\t\\t\\t \\n\\t\\t\\t\\t\\t\\tBy Julius  Luwemba\\n\\t\\t\\t\\t\\t \\n\\t\\t\\t\\t\\t\\tAdded 19th May 2020 08:48 PM\\n\\t\\t\\t\\t\\t \\n\\t\\t\\t\\tWhat used to be a compound, is now an extension of Lake Victoria and the nuns have to use a boat if they're to access any corner of the compound, or crossing from one dormitory to another.\\n\\t\\t\\t \\n\\t\\t\\t\\t\\t\\t The building which was opened by Arcgbishop Cyprian Kizito Lwanga in 2013, is now abandoned after being cut off by the risen water levels of Lake Victoria. Photos by Julius Luwemba\\n\\t\\t\\t\\t\\t What used to be a compound, is now an extension of Lake Victoria and the nuns have to use a boat if they're to access any corner of the compound, or crossing from one dormitory to another. \\xa0 LAKE VICTORIA | CLIMATE CHANGEWAKISO - Kyasira home of hope, which is managed by Good Samaritan Sisters of Kisubi used to accommodate over 80 orphans.   From the orphanage, children would be taken to different schools for their education.   However, the rising water levels of Lake Victoria have not spared the orphanage, wrecking all structures including dormitories, kitchen, stores, and toilets.   What used to be a compound, is now an extension of Lake Victoria and the nuns have to use a boat if they're to access any corner of the compound, or crossing from one dormitory to another. \\xa0 \\xa0 \\xa0 \\xa0 \\xa0 \\xa0Read the detail in today's New Vision or click the Epaper. Zakayo, Uganda's oldest chimp turns 54 Entebbe Municipal Council launches enforcement team Nambooze returns from India, referred to Mulago Hospital... \\n\\t\\t\\t\\t20 May 2020\\n\\t\\t\\t\\t \\n\\t\\t\\t\\t20 May 2020\\n\\t\\t\\t\\t \\n\\t\\t\\t\\t20 May 2020\\n\\t\\t\\t\\t \\n\\t\\t\\t\\t20 May 2020\\n\\t\\t\\t\\t \\n\\t\\t\\t\\t19 May 2020\\n\\t\\t\\t\\t © 2019 - New Vision. All Rights Reserved. \\n\\t\\t\\t\\t\\t\\tKindly provide your details to receive the Newvision Newsletter\\n\\t\\t\\t\\t\\t \\n\\t\\t\\t\\t\\t\\tBy Shamim Saad\\n\\t\\t\\t\\t\\t \\n\\t\\t\\t\\t\\t\\tAdded 19th May 2020 08:49 PM\\n\\t\\t\\t\\t\\t \\n\\t\\t\\t\\tUnlike the previous years, many Muslims are finding it hard to break their fast during this holy month of Ramathan. \\n\\t\\t\\t \\n\\t\\t\\t\\t\\t\\t When Muslim were hosted to an Iftar dinner at State House in 2017. It will not  happen this year due to the Corona out break.\\n\\t\\t\\t\\t\\t Unlike the previous years, many Muslims are finding it hard to break their fast during this holy month of Ramathan.  Unlike the previous years, many Muslims are finding it hard to break their fast during this holy month of Ramathan.\\xa0Shamim Saad spoke to a few and this is what they had to say. \\xa0 Juma Awath 36 years, Fashionista This year, things are really tough on Muslims if we are to compare with previous years. I strongly attribute it to the Corona pandemic. My Muslim brothers and sisters used fast with hopes of getting food to break their fast at different mosques but they can no longer gather at mosques. They are struggling and have to depend on their savings and government’s posho and beans. I pray to God to provide and enable them to finish this holy month seamlessly. \\xa0 \\xa0 \\xa0Sophie Ahmed Hamdan 38 years, Business Woman Of course this year can’t be like previous ones as far as iftar is concerned. Although there is a lot of food at the market, money is scarce in this Corona season. We ration what we eat and keep the rest for the following day. But I thank Allah, we have never lacked. Sadat Salim, 40 years, Imam Naguru Go-down Mosque On my side, I thank Allah because there is no difference in my Iftar if I am to compare it with the previous years. I have never doubted Allah and he has provided for my family. However, the situation is different at my mosque. There are Muslim brothers and sisters who would fast and entirely depend on Iftar at the mosque but with this lockdown, which restricts gathering they can no longer gather to break their fast. Even those who were willing to provide iftar to such people can’t which has really affected them. I pray for Allah to enable them through. \\xa0 Rukia Khamis 48 years, Chef This Iftar has been the most difficult ever since I started fasting because the country is in lockdown, it has limited our movement so we can’t work hence making breaking the fast a hard task. Some of us would rely on Iftar at mosques but they are closed making it hard for us to break our fasts. Zaitun Ismail 49 years, Former Air hostess Being a widow and a single mother, this iftar is the worst I have evern had. Life is hard as most of the times, I lack food to eat while breaking my fast. I rely on my neighbours who share with what they have prepared. I got government’s relief food but at times I lack charcoal to cook. But amists all these challenges, I have kept my faith high and continue with my fasting. Insha-Allah things will get better. Ayub Ambar 80 years, Retired Carpenter I have not noticed any difference in this year’s Iftar compared to previous years simply because some good friend gave me enough money (sadaque) to cater for me and my family’s iftar. \\xa0 I also help my neighbours who are struggling with iftar. I thank him so much may Allah bless him abundantly. Musa Mahmoud 29 years, Administrator This is far different from other years because people are at home and not working. Most people’s salaries were cut making life hard and unable to have good meal for iftar and Daku. The money they earn is less, the biggest percentage goes to rent and they are left with little meant for food at the end of the day making life and fasting really hard for them. \\xa0 \\xa0 Aisha Goodo, House wife There is a big difference in this year’s iftar compared to other years. Being in lockdown it is really tough on the Muslims side. We are keen on the amount of food we cook, no wasting because you are not sure of the next day’s meal. \\xa0 \\xa0 Joan Kagezi's 3rd memorial lecture Parents urged to educate children NITA-U signs partnership with IT innovators \\n\\t\\t\\t\\t20 May 2020\\n\\t\\t\\t\\t \\n\\t\\t\\t\\t20 May 2020\\n\\t\\t\\t\\t \\n\\t\\t\\t\\t20 May 2020\\n\\t\\t\\t\\t \\n\\t\\t\\t\\t20 May 2020\\n\\t\\t\\t\\t \\n\\t\\t\\t\\t19 May 2020\\n\\t\\t\\t\\t © 2019 - New Vision. All Rights Reserved. \\n\\t\\t\\t\\t\\t\\tKindly provide your details to receive the Newvision Newsletter\\n\\t\\t\\t\\t\\t \\n\\t\\t\\t\\t\\t\\tBy James Bakama\\n\\t\\t\\t\\t\\t \\n\\t\\t\\t\\t\\t\\tAdded 19th May 2020 06:15 PM\\n\\t\\t\\t\\t\\t \\n\\t\\t\\t\\tThe ever smiling runner was on a few peoples’ radar because he was a relatively newcomer on the big stage.\\n\\t\\t\\t \\n\\t\\t\\t\\t\\t\\tKiprotich won gold - Uganda's only medal - at the 2012 Olympic Games in London. (AFP)\\n\\t\\t\\t\\t\\t The ever smiling runner was on a few peoples’ radar because he was a relatively newcomer on the big stage. ATHLETICSLong before the curtain fell on the London 2012 Olympics, many had written off Uganda as having concluded yet another outing without a medal.This was quite understandable. Big names on Team Uganda like Moses Kipsiro and Dorcas Inzikuru had all left empty-handed.Then, it had also been 16 years since Davis Kamoga had won Uganda’s last medal - a bronze at the Atlanta 1996 Games. So sporadic and far between were Uganda’s Olympic medals, that Kamoga’s bronze had equally come 16 years after boxer John Mugabi’s silver in Moscow. Was it therefore surprising that Uganda’s sports minister and leader of delegation in London Charles Bakkabulindi had hurriedly left London long before the last events?“There is no hope. We were tourists,” a team official stated after Kipsiro finished tenth in the 10,000 meters.But there were still those with hope. Yours truly was amongst these few who felt Uganda still had an ace up its sleeve. Talk of a last-ditch attempt. This group was looking at the very last event of the games, the men’s marathon.And the man on whose shoulders this huge responsibility fell was none other than Uganda’s lone ranger in the 42 kilometers event - Stephen Kiprotich.The ever-smiling runner was on a few peoples’ radar because he was a relatively newcomer on the big stage. That he also arrived in London well into the games when all hope seemed lost, also did not help in having him on many a Ugandan’s thoughts.Like most elite marathon runners, he had kept in his camp in Kapkoros, western Kenya to make the best of high altitude training. What did not draw many peoples’ attention was the steady progression in Kiprotich’s career.In 2011, a year before the Olympics, he had entered the Enschede Marathon in the Netherlands as a pace maker, but after going for 30 kilometers in the lead, he decided to hold on and won the race in a new course record.Then, he had the same year finished ninth in the World Championship marathon in Daegu, South Korea. He made the London Olympics team after finishing third in the prestigious Tokyo marathon, a member of the World Marathon Majors.So, for those who cared to follow Kiprotich’s buildup to London, he was no lightweight. \\xa0 'A very good spot to break away'On the eve on the marathon at the London Olympics, Kiprotich and his coach Gordon Ahimbisibwe tried out the route.When they got to the 37km point along London’s Embarkment and Birdcage Walk, Kiprotich surprised his coach when he suddenly said “this is a good spot to break away”.Ahimbisibwe, who also couldn’t imagine Kiprotich winning, just smiled and also acknowledged that indeed it was a good point for whoever would be in the lead at that point. Deep down within him, he knew that leader certainly wouldn’t be Kiprotich.Later that evening and on the morning of the marathon, Kiprotich was given a thorough massage by team physiotherapist Alex Leku.“My body and mind were relaxed. I must say he did a good job.”On the bus to the marathon starting area, Kiprotich was restless. “I kept having this feeling that something big was about to happen, but I couldn’t tell exactly what it was,” he said hours later.When the race began, the spotlight was unsurprisingly on Kenyans Wilson Kipsang and Abel Kirui. Kipsang, whose vest interestingly also bore the name Kiprotich,\\xa0 was the reigning London marathon champion while Kirui was the world champion. \\xa0 Then, of course, there were also the revered Ethiopians, who, together with the Kenyans, had dominated the Olympic medal podium in this grueling event.Another fact that ruled out Kiprotich from the bookmakers favourites was the big names’ times.These were 2:03hr runners compared to Kiprotich’s 2:07 personal best. But Kiprotich was not about to be intimidated and he kept on the heels of the lead pack for most of the opening kilometers.Kipsang then made an early move to try to break up the lead group, building a 21-second lead at one point.It was a high-risk strategy in such warm conditions, though, and he paid for it as the race went on as he started to look less and less comfortable. He missed a drinks stop and by the 25km mark, his advantage was down to seven seconds.Kirui and Kiprotich soon joined the leader to make it a three-way battle for the gold medal.At the very spot that Kiprotich had the previous day shown his coach as an opportune point to break away, something dramatic happened.He first seemed to be starting to struggle, holding the back of his leg, but he suddenly produced a big surge, leapt to the front and pulled away. \\xa0 Kirui just can’t forget that moment. “I saw him [Kiprotich] coming like a cheetah. It was very hard to control that kind of move.”And in front of packed crowds rows deep all along the looped central London course, the Ugandan, who moved to Kenya as a teenager to train, started smiling and pointing his finger into the air as he closed in on victory, before draping himself in the Ugandan flag as he crossed the line. \\xa0 Kiprotich followed in the footsteps of his compatriot John Akii-Bua, who was a 400 metres hurdles champion 40 years earlier, and crossed the line in two hours, eight minutes and one second.With billions worldwide following the marathon that hot afternoon, Kiprotich had been thrust from obscurity to stardom.He had, despite all doubts, also got the last laugh. \\xa0  Uganda's sports hubs: Kisenyi and Katwe Uganda's sports hubs: Mulago Kiwanuka in for a suprise, says Kenya's Odour \\n\\t\\t\\t\\t20 May 2020\\n\\t\\t\\t\\t \\n\\t\\t\\t\\t20 May 2020\\n\\t\\t\\t\\t \\n\\t\\t\\t\\t20 May 2020\\n\\t\\t\\t\\t \\n\\t\\t\\t\\t20 May 2020\\n\\t\\t\\t\\t \\n\\t\\t\\t\\t20 May 2020\\n\\t\\t\\t\\t © 2019 - New Vision. All Rights Reserved. \\n\\t\\t\\t\\t\\t\\tKindly provide your details to receive the Newvision Newsletter\\n\\t\\t\\t\\t\\t \\n\\t\\t\\t\\t\\t\\tBy Admin\\n\\t\\t\\t\\t\\t \\n\\t\\t\\t\\t\\t\\tAdded 19th May 2020 12:52 PM\\n\\t\\t\\t\\t\\t \\n\\t\\t\\t\\tReason? He had a terrible accident in the bathroom. “While leaving the bathroom, I slipped and fell badly. My bone was broken (bone fracture).\\n\\t\\t\\t \\n\\t\\t\\t\\t\\t\\t Saidi Kasule had a terrible accident in the bathroom. While in the bathroom, he slipped and fell badly. He broke his bone (bone fracture). (Courtesy photo)\\n\\t\\t\\t\\t\\t Reason? He had a terrible accident in the bathroom. “While leaving the bathroom, I slipped and fell badly. My bone was broken (bone fracture). By Emmanuel SsejjengoSaidi Kasule, a legendary Afrigo Band saxophonist was yesterday Monday taken to Corsu hospital in Entebbe for treatment after President Yoweri Museveni fulfilled his pledge. Kasule recently sustained a born fracture.On Monday, music promoter Balaam Barugahara told New Vision that “After watching the Afrigo Band star reaching out to the public for help, I contacted the President who has positively responded.” \\xa0Barugahara who represented Museveni gave in sh15m of the required sh18m that is needed for Kasule's treatment. Barugahara said the balance will be cleared today (Tuesday).SAIDI KASULE: THE BROKEN SAXOPHONE PLAYS ONIf there is a section of Afrigo Band that has always stood out, it is the brass. Since the 1970s, the brass section has been the face, ears and eyes of the outfit.\\xa0So, when there was news that the giant of the group had fallen, silence befell a section of Ugandan music fans. The giant that fell is Saidi Kasule, the man who hovers over band leader, Moses Matovu, as the two-play sax.He is unmistakable for his fashion sense and has not been seen on any stage for about nine months now.\\xa0Reason? He had a terrible accident in the bathroom. “While leaving the bathroom, I slipped and fell badly. My bone was broken (bone fracture) and I am still incapable of standing properly for long periods. I am in so much pain I cannot do any work,” he narrated when we visited him at his home in Ndeeba, Kampala, recently.\\xa0The home is a reflection of Saidi (band members and fans keep calling and refer to him on first-name basis). His humility hovers over you as you approach him, amid the hyperactivity that is going on around it.\\xa0He has a big family of up to eight people at the home right now. And more than anything else, they have recently been fed more on the sound of his saxophone.\\xa0Even when we visited, Kasule was seated on the verandah platform with his saxophone, and with hazy eyes, looked like he was lost in a trance of sorts. It prepared me for a sad story concerning his medical treatment.\\xa0HIS STORYHis story takes on a structure of a typical Afrigo song, with many instrumental solos. It goes back and forth, and he does not seem interested in telling the whole of it. Using brief statements, such as musical notes, Kasule leaves me gaping for more.\\xa0“I am now 67 years old. I joined Afrigo Band in 1977,” he begins. Kasule narrates that he had formerly been a member of the Crane Band.\\xa0From his early adult years, Moses Matovu has been a big influence on his music choices and it is no wonder he picked up the same instrument like his mentor.\\xa0They had been together in Crane Band and when Matovu left to form Afrigo Band, Kasule followed soon.\\xa0THE ACCIDENT“It was a Sunday, although I cannot remember the date,” Saidi breaks the tale. It requires more prompting for him to continue.“The children had just cleaned the bathroom, but had not dried the floor well,” his tempo is now up, “So, as I was walking out, I stepped on the wet floor, slipped and fell down,” he continues and when we expected him to take us through the emotions he felt, he ends with an anticlimax,\\xa0“That was nine months ago.” Kasule is one of those musicians who find difficulty expressing themselves through conversation. It is, perhaps, why they resort to music. His incoherent tale may be a pointer to that.\\xa0But that is only the theory of it. From the facial expression, you see pain in his wrinkles, although the eyes seemingly sparkle with hope. He is a man still full of life and the vigour of youth until that bathroom accident.\\xa0“With a broken born, I decided to go to a friend of mine, who is a doctor, in Makindye, Kampala,” Kasule says. He does not reveal the doctor’s name and only refers to him as Omuyunzi wange (orthopedic doctor).\\xa0Kasule explains that for many days, he could not stand up and spent all the time in bed. However, at the time when he had just witnessed remarkable progress on the road to recovery, his orthopedic doctor fell sick and left for an operation.\\xa0Kasule resorted to self-medication, which was in the form of massaging himself. “I sometimes asked my son to massage the leg,” he reveals.\\xa0With not much change, Kasule decided to go to Nsambya Hospital in Kampala, where he got the necessary treatment. “The scan showed that the thigh bone had been detached from the hip. I still need a lot of money for it to be fixed so that I can get back on my feet,” he explains.\\xa0The reason Kasule has not had the bone fixed yet is because he cannot afford. Call for help Kasule is calling out for good Samaritans to come to his aid since he is facing hospital bills to the tune of sh20m.Already, he has got some help from his colleague and mentor, Moses Matovu, who “has provided treatment and looked after me.” Kasule also says the management of Afrigo Band, his friends and family, have also helped. And for a widower, whose wife passed on in 2009, it helps that he is still in close touch with his mother-in-law.\\xa0Pastor Robert Kayanja of Miracle Centre Cathedral, Rubaga has also sent relief food to his home twice. “My mother-in-law prays from Rubaga Miracle Centre and it is through her that we got food,” he says.MUSIC AND MORE MUSIC\\xa0For a person who was born in Kisenyi, Mengo, a Kampala suburb and had education up to secondary school (Old Kampala SS), music is not only his heart and soul, but his livelihood. He does not study it, Kasule feels it.\\xa0He does not even keep a catalogue of his songs. When you ask for his profile as far as music goes, all he says is: “I am a saxophone player, singer and composer.” Since he started playing in a band in 1974, the longest he has gone without playing the sax is six months.\\xa0That is when he would not move from his bed soon after the accident. However, Kasule has been practicing in the last three months in order to get back in the game. “When you are in pain, it does not make the perfect sound, but there is at least a sound,” he cries.Keeping count of the songs he has been involved in does not bother Kasule. He only mentions Nantongo and Twali Twagalana and makes it sound like a boring chorus. That is perhaps why he is quick to add: “It is because of music that I have four children and many grandchildren.” Kasule’s home is a combination of children, grandchildren and his mother-in- law. \\xa0 MPs use only sh100m, to recover sh67bn! Museveni meets Mutagamba family members Father's Day: Your pictures and messages \\n\\t\\t\\t\\t20 May 2020\\n\\t\\t\\t\\t \\n\\t\\t\\t\\t20 May 2020\\n\\t\\t\\t\\t \\n\\t\\t\\t\\t20 May 2020\\n\\t\\t\\t\\t \\n\\t\\t\\t\\t20 May 2020\\n\\t\\t\\t\\t \\n\\t\\t\\t\\t20 May 2020\\n\\t\\t\\t\\t © 2019 - New Vision. All Rights Reserved. \\n\\t\\t\\t\\t\\t\\tKindly provide your details to receive the Newvision Newsletter\\n\\t\\t\\t\\t\\t\"}\n"
     ]
    }
   ],
   "source": [
    "text = []\n",
    "\n",
    "for link in article_links:\n",
    "    if news_href in link['href']:\n",
    "        article = requests.get(link['href'])\n",
    "        article_content = article.content\n",
    "        soup2 = BeautifulSoup(article_content, 'html5lib')\n",
    "        body = soup2.find('div', class_='article-content')\n",
    "        soup3 = BeautifulSoup(article_content, 'html5lib')\n",
    "        paragraphs = soup3.find_all('p')\n",
    "        for p in paragraphs:\n",
    "            text.append(p.get_text())\n",
    "            \n",
    "final_text = \" \".join(text)\n",
    "timestamp = datetime.datetime.now()\n",
    "news_entry = {timestamp.strftime(\"%m/%d/%Y, %H:%M:%S\"): final_text}\n",
    "print(news_entry)"
   ]
  },
  {
   "cell_type": "markdown",
   "metadata": {},
   "source": [
    "**Store text in `mongodb` database**"
   ]
  },
  {
   "cell_type": "code",
   "execution_count": 19,
   "metadata": {},
   "outputs": [
    {
     "data": {
      "text/plain": [
       "<pymongo.results.InsertOneResult at 0x7f243bbc0888>"
      ]
     },
     "execution_count": 19,
     "metadata": {},
     "output_type": "execute_result"
    }
   ],
   "source": [
    "col.insert_one(news_entry)"
   ]
  },
  {
   "cell_type": "code",
   "execution_count": null,
   "metadata": {},
   "outputs": [],
   "source": []
  }
 ],
 "metadata": {
  "kernelspec": {
   "display_name": "Python 3",
   "language": "python",
   "name": "python3"
  },
  "language_info": {
   "codemirror_mode": {
    "name": "ipython",
    "version": 3
   },
   "file_extension": ".py",
   "mimetype": "text/x-python",
   "name": "python",
   "nbconvert_exporter": "python",
   "pygments_lexer": "ipython3",
   "version": "3.6.10"
  }
 },
 "nbformat": 4,
 "nbformat_minor": 2
}
