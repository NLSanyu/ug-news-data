{
 "cells": [
  {
   "cell_type": "code",
   "execution_count": 1,
   "metadata": {},
   "outputs": [],
   "source": [
    "import requests\n",
    "from bs4 import BeautifulSoup"
   ]
  },
  {
   "cell_type": "code",
   "execution_count": 2,
   "metadata": {},
   "outputs": [],
   "source": [
    "url = \"https://www.newvision.co.ug\"\n",
    "news_href = \"https://www.newvision.co.ug/new_vision/news/\"\n",
    "\n",
    "news_request = requests.get(url)\n",
    "coverpage = news_request.content"
   ]
  },
  {
   "cell_type": "code",
   "execution_count": 9,
   "metadata": {},
   "outputs": [],
   "source": [
    "soup1 = BeautifulSoup(coverpage, 'html5lib')\n",
    "article_links = soup1.find_all('a')"
   ]
  },
  {
   "cell_type": "code",
   "execution_count": 11,
   "metadata": {},
   "outputs": [
    {
     "name": "stdout",
     "output_type": "stream",
     "text": [
      "[<p>\n",
      "\t\t\t\t\t\tBy AFP\n",
      "\t\t\t\t\t</p>, <p>\n",
      "\t\t\t\t\t\tAdded 19th May 2020 08:46 AM\n",
      "\t\t\t\t\t</p>, <p>\n",
      "\t\t\t\tFor now, the only medication approved for HIV prevention is a drug cocktail called PrEP, which stands for pre-exposure prophylaxis.\n",
      "\t\t\t</p>, <p>\n",
      "\t\t\t\t\t\t The new drug is being tested by scientists at China's Peking University. AFP / WANG ZHAO\n",
      "\t\t\t\t\t</p>, <p>For now, the only medication approved for HIV prevention is a drug cocktail called PrEP, which stands for pre-exposure prophylaxis.</p>, <p><a href=\"/new_vision/news/1424853/conservative-meet-zuckerberg-facebook-ideas\">After conservative meet, Zuckerberg says Facebook open to...</a></p>, <p><a href=\"/new_vision/news/1424885/egyptair-plane-fell-22-feet-swerved-sharply-twice\">EgyptAir plane fell 22,000 feet, swerved sharply twice</a></p>, <p><a href=\"/new_vision/news/1453128/nigeria-chibok-girls-reunite-parents\">Nigeria: Chibok girls to reunite with parents next week...</a></p>, <p>\n",
      "\t\t\t\t19 May 2020\n",
      "\t\t\t\t</p>, <p>\n",
      "\t\t\t\t19 May 2020\n",
      "\t\t\t\t</p>, <p>\n",
      "\t\t\t\t19 May 2020\n",
      "\t\t\t\t</p>, <p>\n",
      "\t\t\t\t19 May 2020\n",
      "\t\t\t\t</p>, <p>\n",
      "\t\t\t\t19 May 2020\n",
      "\t\t\t\t</p>, <p>© 2019 - New Vision. All Rights Reserved.</p>, <p>\n",
      "\t\t\t\t\t\tKindly provide your details to receive the Newvision Newsletter\n",
      "\t\t\t\t\t</p>]\n",
      "[<p>\n",
      "\t\t\t\t\t\tBy AFP\n",
      "\t\t\t\t\t</p>, <p>\n",
      "\t\t\t\t\t\tAdded 19th May 2020 07:57 AM\n",
      "\t\t\t\t\t</p>, <p>\n",
      "\t\t\t\tA drug being tested by scientists at China's prestigious Peking University could not only shorten the recovery time for those infected but even offer short-term immunity from the virus, researchers say. \n",
      "\t\t\t</p>, <p>\n",
      "\t\t\t\t\t\t The new drug is being tested by scientists at China's Peking University. AFP / WANG ZHAO\n",
      "\t\t\t\t\t</p>, <p>A drug being tested by scientists at China's prestigious Peking University could not only shorten the recovery time for those infected but even offer short-term immunity from the virus, researchers say. </p>, <p><a href=\"/new_vision/news/1485897/sa-superbug-kills-newborns-facility-closed\">SA superbug kills six newborns, facility closed</a></p>, <p><a href=\"/new_vision/news/1485898/fight-poverty-world-invest-africas-youth\">'To fight poverty, world should invest in Africa's youth'...</a></p>, <p><a href=\"/new_vision/news/1485902/abe-eyes-term-reform-japans-pacifist-constitution\">Abe eyes new term, reform of Japan's pacifist constitution...</a></p>, <p>\n",
      "\t\t\t\t19 May 2020\n",
      "\t\t\t\t</p>, <p>\n",
      "\t\t\t\t19 May 2020\n",
      "\t\t\t\t</p>, <p>\n",
      "\t\t\t\t19 May 2020\n",
      "\t\t\t\t</p>, <p>\n",
      "\t\t\t\t19 May 2020\n",
      "\t\t\t\t</p>, <p>\n",
      "\t\t\t\t19 May 2020\n",
      "\t\t\t\t</p>, <p>© 2019 - New Vision. All Rights Reserved.</p>, <p>\n",
      "\t\t\t\t\t\tKindly provide your details to receive the Newvision Newsletter\n",
      "\t\t\t\t\t</p>]\n",
      "[<p>\n",
      "\t\t\t\t\t\tBy John Tugume\n",
      "\t\t\t\t\t</p>, <p>\n",
      "\t\t\t\t\t\tAdded 19th May 2020 06:57 AM\n",
      "\t\t\t\t\t</p>, <p>\n",
      "\t\t\t\tTo bear the brunt of the directive were 32 drivers who, after testing positive for the virus, were blocked from entering the country and sent home.\n",
      "\n",
      "\n",
      "\t\t\t</p>, <p>\n",
      "\t\t\t\t\t\t 32 drivers tested positive for the virus\n",
      "\t\t\t\t\t</p>, <p>To bear the brunt of the directive were 32 drivers who, after testing positive for the virus, were blocked from entering the country and sent home.\n",
      "\n",
      "</p>, <p><strong>Uganda has started turning away foreign cargo truck drivers who test positive for COVID-19 following a Presidential directive.</strong></p>, <p>To bear the brunt of the directive were 32 drivers who, after testing positive for the virus on Monday, were blocked from entering the country and sent home.</p>, <p>According to the Ministry of Health, 12 new COVID-19 cases were confirmed in Uganda on Monday from 1,743 samples of truck drivers.</p>, <p>“All new cases are Ugandans. The total confirmed COVID-19 cases are now 260,” the ministry said in a tweet.</p>, <p>“32 foreign truck drivers who tested positive for COVID-19 were turned back to their respective countries,” the ministry added.</p>, <p>The announcement came just hours after President Yoweri Museveni announced a new on the lockdown that was pegged on the availability of free standard masks.</p>, <p>However, Museveni said in his address that foreign travel remained banned to avoid importing COVID-19 cases.</p>, <p>The President said Cabinet would sit to consider whether to carry out massive evacuation of Ugandans living abroad.</p>, <p> </p>, <p><a href=\"/new_vision/news/1514731/government-airlifts-pesticides-spray-locusts-karamoja\">Government airlifts pesticides to spray locusts in Karamoja...</a></p>, <p><a href=\"/new_vision/news/1514825/insecurity-hindering-fight-locust-africa-fao-expert\">Insecurity hindering fight against locust in Africa – FAO...</a></p>, <p><a href=\"/new_vision/news/1515465/museveni-cautions-lake-shores-river-banks\">Museveni cautions on using lake shores, river banks</a></p>, <p>\n",
      "\t\t\t\t19 May 2020\n",
      "\t\t\t\t</p>, <p>\n",
      "\t\t\t\t19 May 2020\n",
      "\t\t\t\t</p>, <p>\n",
      "\t\t\t\t19 May 2020\n",
      "\t\t\t\t</p>, <p>\n",
      "\t\t\t\t19 May 2020\n",
      "\t\t\t\t</p>, <p>\n",
      "\t\t\t\t19 May 2020\n",
      "\t\t\t\t</p>, <p>© 2019 - New Vision. All Rights Reserved.</p>, <p>\n",
      "\t\t\t\t\t\tKindly provide your details to receive the Newvision Newsletter\n",
      "\t\t\t\t\t</p>]\n",
      "[<p>\n",
      "\t\t\t\t\t\tBy Admin\n",
      "\t\t\t\t\t</p>, <p>\n",
      "\t\t\t\t\t\tAdded 19th May 2020 06:29 AM\n",
      "\t\t\t\t\t</p>, <p>\n",
      "\t\t\t\tUganda's big stories and around the world. \n",
      "\t\t\t</p>, <p>Uganda's big stories and around the world. </p>, <p>.</p>, <p><a href=\"/new_vision/news/1420101/-embrace-accession-south-sudan-eac\">Let’s embrace the accession of South Sudan to the EAC</a></p>, <p><a href=\"/new_vision/news/1420103/movement-economic-revolution\">The Movement’s economic revolution</a></p>, <p><a href=\"/new_vision/news/1483581/arua-decides-voting-underway\">Replacing Abiriga: Arua goes to the polls</a></p>, <p>\n",
      "\t\t\t\t19 May 2020\n",
      "\t\t\t\t</p>, <p>\n",
      "\t\t\t\t19 May 2020\n",
      "\t\t\t\t</p>, <p>\n",
      "\t\t\t\t19 May 2020\n",
      "\t\t\t\t</p>, <p>\n",
      "\t\t\t\t19 May 2020\n",
      "\t\t\t\t</p>, <p>\n",
      "\t\t\t\t19 May 2020\n",
      "\t\t\t\t</p>, <p>© 2019 - New Vision. All Rights Reserved.</p>, <p>\n",
      "\t\t\t\t\t\tKindly provide your details to receive the Newvision Newsletter\n",
      "\t\t\t\t\t</p>]\n"
     ]
    }
   ],
   "source": [
    "for link in article_links:\n",
    "    if news_href in link['href']:\n",
    "        article = requests.get(link['href'])\n",
    "        article_content = article.content\n",
    "        soup2 = BeautifulSoup(article_content, 'html5lib')\n",
    "        body = soup2.find_all('p')\n",
    "        print(body)"
   ]
  },
  {
   "cell_type": "code",
   "execution_count": null,
   "metadata": {},
   "outputs": [],
   "source": []
  }
 ],
 "metadata": {
  "kernelspec": {
   "display_name": "Python 3",
   "language": "python",
   "name": "python3"
  },
  "language_info": {
   "codemirror_mode": {
    "name": "ipython",
    "version": 3
   },
   "file_extension": ".py",
   "mimetype": "text/x-python",
   "name": "python",
   "nbconvert_exporter": "python",
   "pygments_lexer": "ipython3",
   "version": "3.6.10"
  }
 },
 "nbformat": 4,
 "nbformat_minor": 2
}
